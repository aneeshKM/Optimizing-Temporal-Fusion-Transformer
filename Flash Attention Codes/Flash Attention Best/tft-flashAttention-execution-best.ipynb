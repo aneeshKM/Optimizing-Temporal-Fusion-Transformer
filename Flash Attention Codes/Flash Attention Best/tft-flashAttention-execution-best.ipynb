{
 "cells": [
  {
   "cell_type": "code",
   "execution_count": 1,
   "metadata": {
    "colab": {
     "base_uri": "https://localhost:8080/"
    },
    "id": "BqkK6jlEtr9S",
    "outputId": "1448e2e9-5bf1-477b-e44d-575d83f42739"
   },
   "outputs": [],
   "source": [
    "# ─── Cell 1: Patch the mean warning and silence logging ───\n",
    "import warnings, numpy as np, logging\n",
    "from gluonts.model import forecast as _fm\n",
    "\n",
    "# Silence the specific UserWarning\n",
    "warnings.filterwarnings(\n",
    "    \"ignore\",\n",
    "    message=r\"The mean prediction is not stored in the forecast data; the median is being returned instead\\. This behaviour may change in the future\\.\"\n",
    ")\n",
    "# Disable all WARNING and below from all loggers (including GluonTS internals)\n",
    "logging.disable(logging.WARNING)\n",
    "\n",
    "# Override .mean on the original classes (in-place)\n",
    "def _silent_mean(self):\n",
    "    fd = getattr(self, \"_forecast_dict\", {})\n",
    "    if \"mean\" in fd:\n",
    "        return fd[\"mean\"]\n",
    "    if hasattr(self, \"samples\"):\n",
    "        return np.median(self.samples, axis=0)\n",
    "    return self.quantile(\"p50\")\n",
    "\n",
    "_fm.SampleForecast.mean   = property(_silent_mean)\n",
    "_fm.QuantileForecast.mean = property(_silent_mean)\n",
    "# ────────────────────────────────────────────────────────────"
   ]
  },
  {
   "cell_type": "code",
   "execution_count": 2,
   "metadata": {
    "id": "pdYaMYU5fOKK"
   },
   "outputs": [],
   "source": [
    "# ─── Cell 2: Core imports ───\n",
    "import torch\n",
    "import time\n",
    "import pandas as pd\n",
    "from gluonts.dataset.common import ListDataset\n",
    "from gluonts.dataset.field_names import FieldName\n",
    "from gluonts.evaluation import Evaluator\n",
    "from gluonts.evaluation.backtest import make_evaluation_predictions\n",
    "from local.gluonts.torch.model.tft import TemporalFusionTransformerEstimator\n",
    "\n",
    "\n",
    "from pytorch_lightning.utilities.model_summary import ModelSummary\n",
    "# ─────────────────────────"
   ]
  },
  {
   "cell_type": "code",
   "execution_count": 3,
   "metadata": {
    "id": "baqN6PWMn7FV"
   },
   "outputs": [],
   "source": [
    "from sklearn.preprocessing import StandardScaler, LabelEncoder\n",
    "\n",
    "prediction_length = 24\n",
    "context_length = 168\n",
    "window_length = context_length + prediction_length\n",
    "freq = \"1h\"\n",
    "\n",
    "def get_electricity_dataset(csv_path: str, total_samples=500_000):\n",
    "    df = pd.read_csv(csv_path, index_col=0)\n",
    "    df[\"date\"] = pd.to_datetime(df[\"date\"])\n",
    "\n",
    "    # Encode categorical ID\n",
    "    label_encoder = LabelEncoder()\n",
    "    df[\"categorical_id\"] = label_encoder.fit_transform(df[\"categorical_id\"].astype(str))\n",
    "\n",
    "    # Limit data to Jan 1 – Sep 1, 2014 (i.e., days_from_start < 1339)\n",
    "    full_range_df = df[df[\"days_from_start\"] < 1339]\n",
    "\n",
    "    # Sample sliding windows over full range\n",
    "    def sample_windows(subset_df):\n",
    "        samples = []\n",
    "        for entity_id, group in subset_df.groupby(\"id\"):\n",
    "            group = group.sort_values(\"date\")\n",
    "            if len(group) < window_length:\n",
    "                continue\n",
    "\n",
    "            scaler = StandardScaler().fit(group[[\"power_usage\", \"hour\", \"day_of_week\", \"t\"]].values)\n",
    "            target_scaler = StandardScaler().fit(group[[\"power_usage\"]].values)\n",
    "\n",
    "            features = scaler.transform(group[[\"power_usage\", \"hour\", \"day_of_week\", \"t\"]].values)\n",
    "            targets = target_scaler.transform(group[[\"power_usage\"]].values).flatten().astype(np.float32)\n",
    "\n",
    "            feat_hour = features[:, 1].astype(np.float32)\n",
    "            feat_dow = features[:, 2].astype(np.float32)\n",
    "            feat_time = features[:, 3].astype(np.float32)\n",
    "\n",
    "            static_cat = [group[\"categorical_id\"].iloc[0]]\n",
    "            dates = group[\"date\"].values\n",
    "\n",
    "            for i in range(0, len(group) - window_length + 1):\n",
    "                samples.append({\n",
    "                    FieldName.START: dates[i],\n",
    "                    FieldName.TARGET: targets[i:i + window_length],\n",
    "                    FieldName.FEAT_STATIC_CAT: static_cat,\n",
    "                    FieldName.FEAT_DYNAMIC_REAL: [\n",
    "                        feat_hour[i:i + window_length],\n",
    "                        feat_dow[i:i + window_length],\n",
    "                        feat_time[i:i + window_length],\n",
    "                    ],\n",
    "                })\n",
    "\n",
    "        return samples\n",
    "\n",
    "    # Step 1: All possible windows up to Sep 1\n",
    "    all_samples = sample_windows(full_range_df)\n",
    "\n",
    "    # Step 2: Shuffle and take 500,000 total\n",
    "    np.random.shuffle(all_samples)\n",
    "    all_samples = all_samples[:total_samples]\n",
    "\n",
    "    # Step 3: Split into 450k train / 50k val\n",
    "    train_samples = all_samples[:450_000]\n",
    "    val_samples = all_samples[450_000:]\n",
    "\n",
    "    # Step 4: Test set = fixed last 7 days (same as official code)\n",
    "    test_df = df[df[\"days_from_start\"] >= 1332]\n",
    "    test_samples = sample_windows(test_df)\n",
    "\n",
    "    train_ds = ListDataset(train_samples, freq=freq)\n",
    "    val_ds = ListDataset(val_samples, freq=freq)\n",
    "    test_ds = ListDataset(test_samples, freq=freq)\n",
    "\n",
    "    return train_ds, val_ds, test_ds, freq, prediction_length\n"
   ]
  },
  {
   "cell_type": "code",
   "execution_count": 4,
   "metadata": {
    "colab": {
     "base_uri": "https://localhost:8080/"
    },
    "id": "O5MGhJYHs-Bx",
    "outputId": "9acd8aaf-fb61-4bca-db7c-1ef6772a6cf2"
   },
   "outputs": [],
   "source": [
    "file_path = \"../Dataset/Electricity/hourly_electricity.csv\"  # Adjust if it's in a subfolder"
   ]
  },
  {
   "cell_type": "code",
   "execution_count": 5,
   "metadata": {
    "id": "VYJr5LKtn7FW"
   },
   "outputs": [],
   "source": [
    "train_ds, val_ds, test_ds, freq, prediction_length = get_electricity_dataset(file_path)"
   ]
  },
  {
   "cell_type": "code",
   "execution_count": 10,
   "metadata": {
    "id": "c0dCKgUvn7FX"
   },
   "outputs": [
    {
     "name": "stderr",
     "output_type": "stream",
     "text": [
      "/home/akm9999/.local/lib/python3.9/site-packages/gluonts/time_feature/_base.py:249: FutureWarning: 'H' is deprecated and will be removed in a future version, please use 'h' instead.\n",
      "  offset = to_offset(freq_str)\n"
     ]
    }
   ],
   "source": [
    "# Step 3: Define Estimator (PyTorch-based TFT)\n",
    "# estimator = TemporalFusionTransformerEstimator(\n",
    "#     freq=freq,\n",
    "#     prediction_length=prediction_length,\n",
    "#     context_length=168,\n",
    "#     static_cardinalities=[370],\n",
    "#     dynamic_dims=[3],\n",
    "#     past_dynamic_dims=[],\n",
    "#     quantiles=[0.1, 0.5, 0.9],\n",
    "#     batch_size=128,\n",
    "#     patience=5,\n",
    "#     num_batches_per_epoch=50,  # Based on 500k / 64\n",
    "#     trainer_kwargs={\n",
    "#         \"accelerator\": \"gpu\" if torch.cuda.is_available() else \"cpu\",\n",
    "#         \"max_epochs\": 1,\n",
    "#     }\n",
    "# )\n",
    "\n",
    "estimator = TemporalFusionTransformerEstimator(\n",
    "    freq=\"1H\",\n",
    "    prediction_length=24,\n",
    "    context_length=168,\n",
    "    quantiles=[0.1, 0.5, 0.9],\n",
    "\n",
    "    # Model architecture params (increased capacity)\n",
    "    hidden_dim=160,                    # Matches original paper (d_model)\n",
    "    num_heads=4,                      # Matches paper (must divide hidden_dim)\n",
    "    dropout_rate=0.1,                 # Regularization from paper\n",
    "\n",
    "    # Input dimensions\n",
    "    static_cardinalities=[370],       # 370 categorical static features (electricity)\n",
    "    dynamic_dims=[3],                 # Real-valued dynamic known features\n",
    "    past_dynamic_dims=[],            # No past-only real-valued features\n",
    "\n",
    "    # Training params\n",
    "    batch_size=128,\n",
    "    num_batches_per_epoch=3906,       # 500,000 / 128 for full data per epoch\n",
    "    patience=5,\n",
    "    lr=1e-3,\n",
    "    weight_decay=1e-8,\n",
    "\n",
    "    # Hardware config\n",
    "    trainer_kwargs={\n",
    "        \"accelerator\": \"gpu\" if torch.cuda.is_available() else \"cpu\",\n",
    "        \"max_epochs\": 10,             # Increase for better convergence\n",
    "        \"precision\": \"bf16-mixed\",\n",
    "    }\n",
    ")\n"
   ]
  },
  {
   "cell_type": "code",
   "execution_count": 11,
   "metadata": {
    "colab": {
     "base_uri": "https://localhost:8080/"
    },
    "id": "oOSAPH-rn7FX",
    "outputId": "1a644145-2cba-4a61-f088-aec356cdb27c"
   },
   "outputs": [
    {
     "name": "stdout",
     "output_type": "stream",
     "text": [
      "Training TFT model...\n",
      "Training samples: 450000\n",
      "Validation samples: 50000\n"
     ]
    }
   ],
   "source": [
    "print(\"Training TFT model...\")\n",
    "print(f\"Training samples: {len(list(train_ds))}\")\n",
    "print(f\"Validation samples: {len(list(val_ds))}\")"
   ]
  },
  {
   "cell_type": "code",
   "execution_count": 12,
   "metadata": {
    "colab": {
     "base_uri": "https://localhost:8080/",
     "height": 659,
     "referenced_widgets": [
      "9dce0819b6c14aadb5ce9f53d5071930",
      "58464e6c01b245f7abbff7e2bbc0c554",
      "71562f76030448e4b6fd3f1d8726677f",
      "48f5e4ad166c4c778a7373c8591ff865",
      "4933e732da1e418eba11e5619eb7e3eb",
      "bb832112cb4c470ca9d549af461fc421",
      "af337a177cb34155b1a21b1047ccee8e",
      "c3dbc24c64b64e8aa1b36a0c79ef8797",
      "7b92ede60f184532856eba206a8a8924",
      "a0ab2373a2db4630a4edc00d85aa12ee",
      "b9f2f319a0004d99a4eb387d1f77dd56",
      "ddddb34722804fed9f8fd92d7babdab7",
      "64dd9ff2ecbe4836b78658eb8a2dcea6",
      "7e4bc3df7d0b483898daf526b09cf6d9",
      "c65f5305fe484514b87cf351475998ea",
      "474267174073429ba51590d9f1974c91",
      "086e05f80448427db7b47a29f69bccc9",
      "da9a4f632f814177ab12597b60536c83",
      "0d305562ee354b2580cf368dd88e770d",
      "aeba3f6f9c6d4af9a41d3370656b4761",
      "f0a5479fd8d84609bc70365a297e5fd6",
      "6a6540cc7b684cb2a51e870f0517157c",
      "b6fdb262a4374f29833c72ca9d81ab1e",
      "d3ae955091af4cb19666e808c19a2d7d",
      "0552146e1e2143be9a6679bb1fddf806",
      "77b470430c804255b830bf0b8226fb9a",
      "b0fb38b258a641598210f731a829aa1d",
      "1a94aa42f2ec45cba4517e28c82bde65",
      "d2ae68bdefe74f9fa35723d0b5fc0e47",
      "b8202d7c94854bd4a2f681935cc1b44d",
      "d6ca43b42da34c318fe6f4d70b0fecb7",
      "e93b1345a2df484b8d851015c0eabeb2",
      "9342cbb8eaf34a66a622512b2b14ec36"
     ]
    },
    "id": "xyTGW6Efoghq",
    "outputId": "8cf67d98-4211-446f-c9b6-17de8e84b078"
   },
   "outputs": [
    {
     "name": "stdout",
     "output_type": "stream",
     "text": [
      "  | Name  | Type                           | Params | Mode  | In sizes                                                                                 | Out sizes                     \n",
      "---------------------------------------------------------------------------------------------------------------------------------------------------------------------------------------------\n",
      "0 | model | TemporalFusionTransformerModel | 858 K  | train | [[1, 168], [1, 168], [1, 1], [1, 1], [1, 192, 7], [1, 192, 0], [1, 168, 0], [1, 168, 0]] | [[[1, 24, 3]], [1, 1], [1, 1]]\n",
      "---------------------------------------------------------------------------------------------------------------------------------------------------------------------------------------------\n",
      "858 K     Trainable params\n",
      "0         Non-trainable params\n",
      "858 K     Total params\n",
      "3.435     Total estimated model params size (MB)\n",
      "250       Modules in train mode\n",
      "0         Modules in eval mode\n"
     ]
    },
    {
     "name": "stderr",
     "output_type": "stream",
     "text": [
      "/home/akm9999/.local/lib/python3.9/site-packages/lightning/fabric/plugins/environments/slurm.py:204: The `srun` command is available on your system but is not used. HINT: If your intention is to run Lightning on SLURM, prepend your python command with `srun` like so: srun python /share/apps/pyenv/py3.9/lib/python3.9/site-packages/ ...\n"
     ]
    },
    {
     "data": {
      "application/vnd.jupyter.widget-view+json": {
       "model_id": "",
       "version_major": 2,
       "version_minor": 0
      },
      "text/plain": [
       "Sanity Checking: |          | 0/? [00:00<?, ?it/s]"
      ]
     },
     "metadata": {},
     "output_type": "display_data"
    },
    {
     "data": {
      "application/vnd.jupyter.widget-view+json": {
       "model_id": "a49ef58af3ce4fb9901d170dbc763395",
       "version_major": 2,
       "version_minor": 0
      },
      "text/plain": [
       "Training: |          | 0/? [00:00<?, ?it/s]"
      ]
     },
     "metadata": {},
     "output_type": "display_data"
    },
    {
     "data": {
      "application/vnd.jupyter.widget-view+json": {
       "model_id": "",
       "version_major": 2,
       "version_minor": 0
      },
      "text/plain": [
       "Validation: |          | 0/? [00:00<?, ?it/s]"
      ]
     },
     "metadata": {},
     "output_type": "display_data"
    },
    {
     "data": {
      "application/vnd.jupyter.widget-view+json": {
       "model_id": "",
       "version_major": 2,
       "version_minor": 0
      },
      "text/plain": [
       "Validation: |          | 0/? [00:00<?, ?it/s]"
      ]
     },
     "metadata": {},
     "output_type": "display_data"
    },
    {
     "data": {
      "application/vnd.jupyter.widget-view+json": {
       "model_id": "",
       "version_major": 2,
       "version_minor": 0
      },
      "text/plain": [
       "Validation: |          | 0/? [00:00<?, ?it/s]"
      ]
     },
     "metadata": {},
     "output_type": "display_data"
    },
    {
     "data": {
      "application/vnd.jupyter.widget-view+json": {
       "model_id": "",
       "version_major": 2,
       "version_minor": 0
      },
      "text/plain": [
       "Validation: |          | 0/? [00:00<?, ?it/s]"
      ]
     },
     "metadata": {},
     "output_type": "display_data"
    },
    {
     "data": {
      "application/vnd.jupyter.widget-view+json": {
       "model_id": "",
       "version_major": 2,
       "version_minor": 0
      },
      "text/plain": [
       "Validation: |          | 0/? [00:00<?, ?it/s]"
      ]
     },
     "metadata": {},
     "output_type": "display_data"
    },
    {
     "data": {
      "application/vnd.jupyter.widget-view+json": {
       "model_id": "",
       "version_major": 2,
       "version_minor": 0
      },
      "text/plain": [
       "Validation: |          | 0/? [00:00<?, ?it/s]"
      ]
     },
     "metadata": {},
     "output_type": "display_data"
    },
    {
     "data": {
      "application/vnd.jupyter.widget-view+json": {
       "model_id": "",
       "version_major": 2,
       "version_minor": 0
      },
      "text/plain": [
       "Validation: |          | 0/? [00:00<?, ?it/s]"
      ]
     },
     "metadata": {},
     "output_type": "display_data"
    },
    {
     "data": {
      "application/vnd.jupyter.widget-view+json": {
       "model_id": "",
       "version_major": 2,
       "version_minor": 0
      },
      "text/plain": [
       "Validation: |          | 0/? [00:00<?, ?it/s]"
      ]
     },
     "metadata": {},
     "output_type": "display_data"
    },
    {
     "data": {
      "application/vnd.jupyter.widget-view+json": {
       "model_id": "",
       "version_major": 2,
       "version_minor": 0
      },
      "text/plain": [
       "Validation: |          | 0/? [00:00<?, ?it/s]"
      ]
     },
     "metadata": {},
     "output_type": "display_data"
    },
    {
     "data": {
      "application/vnd.jupyter.widget-view+json": {
       "model_id": "",
       "version_major": 2,
       "version_minor": 0
      },
      "text/plain": [
       "Validation: |          | 0/? [00:00<?, ?it/s]"
      ]
     },
     "metadata": {},
     "output_type": "display_data"
    },
    {
     "name": "stdout",
     "output_type": "stream",
     "text": [
      "Training: 5644.253s, Peak GPU mem: 450.6 MB\n"
     ]
    }
   ],
   "source": [
    "module = estimator.create_lightning_module()\n",
    "# max_depth = −1 will show **all** submodules\n",
    "summary = ModelSummary(module, max_depth=1)\n",
    "print(summary)\n",
    "\n",
    "# ── 3) Time & memory for training ──\n",
    "if torch.cuda.is_available():\n",
    "    torch.cuda.reset_peak_memory_stats()\n",
    "    torch.cuda.synchronize()\n",
    "t0 = time.time()\n",
    "predictor = estimator.train(\n",
    "    training_data=train_ds,\n",
    "    validation_data=val_ds\n",
    ")\n",
    "if torch.cuda.is_available():\n",
    "    torch.cuda.synchronize()\n",
    "    train_peak_mem = torch.cuda.max_memory_allocated() / (1024**2)\n",
    "train_time = time.time() - t0\n",
    "print(f\"Training: {train_time:.3f}s, Peak GPU mem: {train_peak_mem:.1f} MB\")"
   ]
  },
  {
   "cell_type": "code",
   "execution_count": 13,
   "metadata": {
    "colab": {
     "base_uri": "https://localhost:8080/"
    },
    "id": "yixMnjgyfOXZ",
    "outputId": "a4c21b7f-dc39-453d-9e0d-c62a724445d6"
   },
   "outputs": [
    {
     "name": "stdout",
     "output_type": "stream",
     "text": [
      "Inference: 46.113s, Peak GPU mem: 193.6 MB\n"
     ]
    }
   ],
   "source": [
    "# ── 2) AMP bfloat16 Inference ──\n",
    "if torch.cuda.is_available():\n",
    "    torch.cuda.reset_peak_memory_stats()\n",
    "    torch.cuda.synchronize()\n",
    "t1 = time.time()\n",
    "# (keeps your existing precision setting)\n",
    "with torch.amp.autocast(\"cuda\"):\n",
    "    f_it, ts_it = make_evaluation_predictions(\n",
    "        dataset=test_ds,\n",
    "        predictor=predictor,\n",
    "        num_samples=100,\n",
    "    )\n",
    "    forecasts = list(f_it)\n",
    "    tss       = list(ts_it)\n",
    "if torch.cuda.is_available():\n",
    "    torch.cuda.synchronize()\n",
    "    inf_peak_mem = torch.cuda.max_memory_allocated() / (1024**2)\n",
    "inf_time = time.time() - t1\n",
    "print(f\"Inference: {inf_time:.3f}s, Peak GPU mem: {inf_peak_mem:.1f} MB\")\n",
    "\n"
   ]
  },
  {
   "cell_type": "code",
   "execution_count": 15,
   "metadata": {},
   "outputs": [
    {
     "name": "stderr",
     "output_type": "stream",
     "text": [
      "\n",
      "Running evaluation: 0it [00:00, ?it/s]\u001b[A\n",
      "Running evaluation: 3208it [00:10, 320.78it/s]\u001b[A\n",
      "Running evaluation: 6418it [00:20, 320.87it/s]\u001b[A\n",
      "Running evaluation: 9633it [00:30, 321.13it/s]\u001b[A\n",
      "Running evaluation: 12848it [00:40, 321.07it/s]\u001b[A\n",
      "Running evaluation: 16086it [00:50, 322.03it/s]\u001b[A\n",
      "Running evaluation: 19324it [01:00, 321.83it/s]\u001b[A\n",
      "Running evaluation: 22539it [01:10, 321.64it/s]\u001b[A\n",
      "Running evaluation: 25761it [01:20, 321.81it/s]\u001b[A\n",
      "Running evaluation: 28983it [01:30, 321.23it/s]\u001b[A\n",
      "Running evaluation: 32193it [01:40, 321.14it/s]\u001b[A\n",
      "Running evaluation: 35416it [01:50, 321.47it/s]\u001b[A\n",
      "Running evaluation: 38639it [02:00, 321.11it/s]\u001b[A\n",
      "Running evaluation: 41843it [02:10, 320.85it/s]\u001b[A\n",
      "Running evaluation: 45086it [02:20, 321.88it/s]\u001b[A\n",
      "Running evaluation: 48329it [02:30, 321.92it/s]\u001b[A\n",
      "Running evaluation: 53505it [02:46, 321.57it/s]\u001b[A\n"
     ]
    },
    {
     "name": "stdout",
     "output_type": "stream",
     "text": [
      "Evaluation time: 166.760s\n"
     ]
    }
   ],
   "source": [
    "# ── 3) Evaluation timing (reuse FP32 outputs) ──\n",
    "t2 = time.time()\n",
    "evaluator    = Evaluator(quantiles=[0.5], num_workers=0)\n",
    "agg_metrics, item_metrics = evaluator(tss, forecasts)\n",
    "eval_time = time.time() - t2\n",
    "print(f\"Evaluation time: {eval_time:.3f}s\")"
   ]
  },
  {
   "cell_type": "code",
   "execution_count": 16,
   "metadata": {},
   "outputs": [
    {
     "name": "stdout",
     "output_type": "stream",
     "text": [
      "RMSE: 0.42422893398532396\n",
      "MASE: 0.9562343002075506\n",
      "sMAPE: 0.44440558510632744\n"
     ]
    }
   ],
   "source": [
    "# Step 6: Print metrics\n",
    "# print(\"Inference Time (s):\", inference_time)\n",
    "print(\"RMSE:\", agg_metrics[\"RMSE\"])\n",
    "print(\"MASE:\", agg_metrics[\"MASE\"])\n",
    "print(\"sMAPE:\", agg_metrics[\"sMAPE\"])"
   ]
  },
  {
   "cell_type": "code",
   "execution_count": 17,
   "metadata": {},
   "outputs": [
    {
     "name": "stdout",
     "output_type": "stream",
     "text": [
      "→ Forecast start_date: 2014-09-01 00:00\n",
      "→ Forecast quantiles: ['0.1', '0.5', '0.9']\n",
      "→ Median forecast length: 24\n"
     ]
    }
   ],
   "source": [
    "import pandas as pd\n",
    "\n",
    "# 1) Grab the first test entry & its forecast\n",
    "test_entry     = next(iter(test_ds))\n",
    "forecast_entry = forecasts[0]\n",
    "\n",
    "# 2) Forecast diagnostics\n",
    "print(\"→ Forecast start_date:\", forecast_entry.start_date)\n",
    "print(\"→ Forecast quantiles:\", forecast_entry.forecast_keys)\n",
    "median_fc = forecast_entry.quantile(0.5)\n",
    "print(\"→ Median forecast length:\", len(median_fc))"
   ]
  },
  {
   "cell_type": "code",
   "execution_count": 18,
   "metadata": {},
   "outputs": [],
   "source": [
    "# first entry of the time series list\n",
    "ts_entry = tss[0]"
   ]
  },
  {
   "cell_type": "code",
   "execution_count": 19,
   "metadata": {},
   "outputs": [
    {
     "data": {
      "text/plain": [
       "array([0.27276656, 0.0958369 , 0.0958369 , 0.27276656, 0.18430173],\n",
       "      dtype=float32)"
      ]
     },
     "execution_count": 19,
     "metadata": {},
     "output_type": "execute_result"
    }
   ],
   "source": [
    "# first 5 values of the time series (convert from pandas to numpy)\n",
    "np.array(ts_entry[:5]).reshape(\n",
    "    -1,\n",
    ")"
   ]
  },
  {
   "cell_type": "code",
   "execution_count": 20,
   "metadata": {},
   "outputs": [],
   "source": [
    "# first entry of dataset.test\n",
    "dataset_test_entry = next(iter(test_ds))"
   ]
  },
  {
   "cell_type": "code",
   "execution_count": 21,
   "metadata": {},
   "outputs": [
    {
     "data": {
      "text/plain": [
       "array([0.27276656, 0.0958369 , 0.0958369 , 0.27276656, 0.18430173],\n",
       "      dtype=float32)"
      ]
     },
     "execution_count": 21,
     "metadata": {},
     "output_type": "execute_result"
    }
   ],
   "source": [
    "# first 5 values\n",
    "dataset_test_entry[\"target\"][:5]"
   ]
  },
  {
   "cell_type": "code",
   "execution_count": 22,
   "metadata": {},
   "outputs": [
    {
     "name": "stdout",
     "output_type": "stream",
     "text": [
      "Start date of the forecast window: 2014-09-01 00:00\n",
      "Frequency of the time series: <Hour>\n"
     ]
    }
   ],
   "source": [
    "# first entry of the forecast list\n",
    "forecast_entry = forecasts[0]\n",
    "# print(f\"Number of sample paths: {forecast_entry.num_samples}\")\n",
    "# print(f\"Dimension of samples: {forecast_entry.samples.shape}\")\n",
    "print(f\"Start date of the forecast window: {forecast_entry.start_date}\")\n",
    "print(f\"Frequency of the time series: {forecast_entry.freq}\")"
   ]
  },
  {
   "cell_type": "code",
   "execution_count": 23,
   "metadata": {},
   "outputs": [
    {
     "name": "stdout",
     "output_type": "stream",
     "text": [
      "Mean of the future window:\n",
      " [ 0.1327643   0.14122513  0.15522397  0.1598005   0.16549233  0.16687682\n",
      "  0.24277434  0.03581086  0.03673385 -0.01495413 -0.0351063  -0.11694562\n",
      " -0.16340327 -0.23478192 -0.18924725 -0.18217093 -0.19109327 -0.1741716\n",
      " -0.14617392 -0.07633361 -0.02203046  0.11341976  0.20627739  0.21494493]\n",
      "0.5-quantile (median) of the future window:\n",
      " [ 0.1327643   0.14122513  0.15522397  0.1598005   0.16549233  0.16687682\n",
      "  0.24277434  0.03581086  0.03673385 -0.01495413 -0.0351063  -0.11694562\n",
      " -0.16340327 -0.23478192 -0.18924725 -0.18217093 -0.19109327 -0.1741716\n",
      " -0.14617392 -0.07633361 -0.02203046  0.11341976  0.20627739  0.21494493]\n"
     ]
    }
   ],
   "source": [
    "print(f\"Mean of the future window:\\n {forecast_entry.mean}\")\n",
    "print(f\"0.5-quantile (median) of the future window:\\n {forecast_entry.quantile(0.5)}\")"
   ]
  },
  {
   "cell_type": "code",
   "execution_count": 24,
   "metadata": {},
   "outputs": [
    {
     "data": {
      "text/plain": [
       "<matplotlib.legend.Legend at 0x1523a99f2400>"
      ]
     },
     "execution_count": 24,
     "metadata": {},
     "output_type": "execute_result"
    },
    {
     "data": {
      "image/png": "[encoded data removed]",
      "text/plain": [
       "<Figure size 640x480 with 1 Axes>"
      ]
     },
     "metadata": {},
     "output_type": "display_data"
    }
   ],
   "source": [
    "import matplotlib.pyplot as plt\n",
    "\n",
    "plt.plot(ts_entry[-150:].to_timestamp())\n",
    "forecast_entry.plot(show_label=True)\n",
    "plt.legend()"
   ]
  },
  {
   "cell_type": "code",
   "execution_count": 25,
   "metadata": {},
   "outputs": [
    {
     "name": "stdout",
     "output_type": "stream",
     "text": [
      "{\n",
      "    \"MSE\": 0.17997018843032433,\n",
      "    \"abs_error\": 330189.42645436525,\n",
      "    \"abs_target_sum\": 1115203.6304939985,\n",
      "    \"abs_target_mean\": 0.8684574887814211,\n",
      "    \"seasonal_error\": 0.32064557889547723,\n",
      "    \"MASE\": 0.9562343002075506,\n",
      "    \"MAPE\": 1.4928903389053125,\n",
      "    \"sMAPE\": 0.44440558510632744,\n",
      "    \"MSIS\": 8.82544466769796,\n",
      "    \"num_masked_target_values\": 0.0,\n",
      "    \"QuantileLoss[0.5]\": 330189.42645945563,\n",
      "    \"Coverage[0.5]\": 0.5572602249010996,\n",
      "    \"RMSE\": 0.42422893398532396,\n",
      "    \"NRMSE\": 0.4884855499151514,\n",
      "    \"ND\": 0.2960799421968365,\n",
      "    \"wQuantileLoss[0.5]\": 0.296079942201401,\n",
      "    \"mean_absolute_QuantileLoss\": 330189.42645945563,\n",
      "    \"mean_wQuantileLoss\": 0.296079942201401,\n",
      "    \"MAE_Coverage\": 0.05726022490109961,\n",
      "    \"OWA\": NaN\n",
      "}\n"
     ]
    }
   ],
   "source": [
    "import json\n",
    "print(json.dumps(agg_metrics, indent=4))"
   ]
  },
  {
   "cell_type": "code",
   "execution_count": 26,
   "metadata": {},
   "outputs": [
    {
     "data": {
      "text/html": [
       "<div>\n",
       "<style scoped>\n",
       "    .dataframe tbody tr th:only-of-type {\n",
       "        vertical-align: middle;\n",
       "    }\n",
       "\n",
       "    .dataframe tbody tr th {\n",
       "        vertical-align: top;\n",
       "    }\n",
       "\n",
       "    .dataframe thead th {\n",
       "        text-align: right;\n",
       "    }\n",
       "</style>\n",
       "<table border=\"1\" class=\"dataframe\">\n",
       "  <thead>\n",
       "    <tr style=\"text-align: right;\">\n",
       "      <th></th>\n",
       "      <th>item_id</th>\n",
       "      <th>forecast_start</th>\n",
       "      <th>MSE</th>\n",
       "      <th>abs_error</th>\n",
       "      <th>abs_target_sum</th>\n",
       "      <th>abs_target_mean</th>\n",
       "      <th>seasonal_error</th>\n",
       "      <th>MASE</th>\n",
       "      <th>MAPE</th>\n",
       "      <th>sMAPE</th>\n",
       "      <th>num_masked_target_values</th>\n",
       "      <th>ND</th>\n",
       "      <th>MSIS</th>\n",
       "      <th>QuantileLoss[0.5]</th>\n",
       "      <th>Coverage[0.5]</th>\n",
       "    </tr>\n",
       "  </thead>\n",
       "  <tbody>\n",
       "    <tr>\n",
       "      <th>0</th>\n",
       "      <td>None</td>\n",
       "      <td>2014-09-01 00:00</td>\n",
       "      <td>1.557088</td>\n",
       "      <td>16.180378</td>\n",
       "      <td>17.943615</td>\n",
       "      <td>0.747651</td>\n",
       "      <td>0.318228</td>\n",
       "      <td>2.118554</td>\n",
       "      <td>0.666518</td>\n",
       "      <td>0.961503</td>\n",
       "      <td>0.0</td>\n",
       "      <td>0.901735</td>\n",
       "      <td>53.278302</td>\n",
       "      <td>16.180377</td>\n",
       "      <td>0.708333</td>\n",
       "    </tr>\n",
       "    <tr>\n",
       "      <th>1</th>\n",
       "      <td>None</td>\n",
       "      <td>2014-09-01 01:00</td>\n",
       "      <td>2.089042</td>\n",
       "      <td>19.731445</td>\n",
       "      <td>21.290535</td>\n",
       "      <td>0.887106</td>\n",
       "      <td>0.318228</td>\n",
       "      <td>2.583508</td>\n",
       "      <td>0.713718</td>\n",
       "      <td>1.015935</td>\n",
       "      <td>0.0</td>\n",
       "      <td>0.926771</td>\n",
       "      <td>70.443186</td>\n",
       "      <td>19.731444</td>\n",
       "      <td>0.708333</td>\n",
       "    </tr>\n",
       "    <tr>\n",
       "      <th>2</th>\n",
       "      <td>None</td>\n",
       "      <td>2014-09-01 02:00</td>\n",
       "      <td>2.652023</td>\n",
       "      <td>23.452240</td>\n",
       "      <td>24.548990</td>\n",
       "      <td>1.022875</td>\n",
       "      <td>0.317613</td>\n",
       "      <td>3.076624</td>\n",
       "      <td>0.781904</td>\n",
       "      <td>1.103650</td>\n",
       "      <td>0.0</td>\n",
       "      <td>0.955324</td>\n",
       "      <td>88.142779</td>\n",
       "      <td>23.452238</td>\n",
       "      <td>0.791667</td>\n",
       "    </tr>\n",
       "    <tr>\n",
       "      <th>3</th>\n",
       "      <td>None</td>\n",
       "      <td>2014-09-01 03:00</td>\n",
       "      <td>3.175603</td>\n",
       "      <td>26.732718</td>\n",
       "      <td>27.807446</td>\n",
       "      <td>1.158644</td>\n",
       "      <td>0.317613</td>\n",
       "      <td>3.506979</td>\n",
       "      <td>0.750516</td>\n",
       "      <td>1.131149</td>\n",
       "      <td>0.0</td>\n",
       "      <td>0.961351</td>\n",
       "      <td>105.060185</td>\n",
       "      <td>26.732717</td>\n",
       "      <td>0.791667</td>\n",
       "    </tr>\n",
       "    <tr>\n",
       "      <th>4</th>\n",
       "      <td>None</td>\n",
       "      <td>2014-09-01 04:00</td>\n",
       "      <td>3.797855</td>\n",
       "      <td>30.604856</td>\n",
       "      <td>31.065899</td>\n",
       "      <td>1.294412</td>\n",
       "      <td>0.317613</td>\n",
       "      <td>4.014953</td>\n",
       "      <td>0.787963</td>\n",
       "      <td>1.221155</td>\n",
       "      <td>0.0</td>\n",
       "      <td>0.985159</td>\n",
       "      <td>123.063186</td>\n",
       "      <td>30.604857</td>\n",
       "      <td>0.791667</td>\n",
       "    </tr>\n",
       "  </tbody>\n",
       "</table>\n",
       "</div>"
      ],
      "text/plain": [
       "  item_id    forecast_start       MSE  abs_error  abs_target_sum  \\\n",
       "0    None  2014-09-01 00:00  1.557088  16.180378       17.943615   \n",
       "1    None  2014-09-01 01:00  2.089042  19.731445       21.290535   \n",
       "2    None  2014-09-01 02:00  2.652023  23.452240       24.548990   \n",
       "3    None  2014-09-01 03:00  3.175603  26.732718       27.807446   \n",
       "4    None  2014-09-01 04:00  3.797855  30.604856       31.065899   \n",
       "\n",
       "   abs_target_mean  seasonal_error      MASE      MAPE     sMAPE  \\\n",
       "0         0.747651        0.318228  2.118554  0.666518  0.961503   \n",
       "1         0.887106        0.318228  2.583508  0.713718  1.015935   \n",
       "2         1.022875        0.317613  3.076624  0.781904  1.103650   \n",
       "3         1.158644        0.317613  3.506979  0.750516  1.131149   \n",
       "4         1.294412        0.317613  4.014953  0.787963  1.221155   \n",
       "\n",
       "   num_masked_target_values        ND        MSIS  QuantileLoss[0.5]  \\\n",
       "0                       0.0  0.901735   53.278302          16.180377   \n",
       "1                       0.0  0.926771   70.443186          19.731444   \n",
       "2                       0.0  0.955324   88.142779          23.452238   \n",
       "3                       0.0  0.961351  105.060185          26.732717   \n",
       "4                       0.0  0.985159  123.063186          30.604857   \n",
       "\n",
       "   Coverage[0.5]  \n",
       "0       0.708333  \n",
       "1       0.708333  \n",
       "2       0.791667  \n",
       "3       0.791667  \n",
       "4       0.791667  "
      ]
     },
     "execution_count": 26,
     "metadata": {},
     "output_type": "execute_result"
    }
   ],
   "source": [
    "item_metrics.head()"
   ]
  },
  {
   "cell_type": "code",
   "execution_count": 27,
   "metadata": {},
   "outputs": [
    {
     "data": {
      "image/png": "[encoded data removed]",
      "text/plain": [
       "<Figure size 640x480 with 1 Axes>"
      ]
     },
     "metadata": {},
     "output_type": "display_data"
    }
   ],
   "source": [
    "item_metrics.plot(x=\"MSIS\", y=\"MASE\", kind=\"scatter\")\n",
    "plt.grid(which=\"both\")\n",
    "plt.show()"
   ]
  },
  {
   "cell_type": "code",
   "execution_count": 28,
   "metadata": {},
   "outputs": [],
   "source": [
    "from pathlib import Path\n",
    "# 1) pick a folder and make sure it exists\n",
    "save_dir = Path(\"saved_model_flash_updated\")\n",
    "save_dir.mkdir(parents=True, exist_ok=True)\n",
    "\n",
    "# 2) save the full GluonTS Predictor\n",
    "#    this will write a metadata.json and predictor.pkl inside saved_model/\n",
    "predictor.serialize(save_dir)\n",
    "\n",
    "# 3) (optional) save only the PyTorch TFT weights\n",
    "torch.save(\n",
    "    predictor.prediction_net.model.state_dict(),\n",
    "    save_dir / \"tft_flash_weights.pt\"\n",
    ")\n"
   ]
  },
  {
   "cell_type": "code",
   "execution_count": null,
   "metadata": {},
   "outputs": [],
   "source": []
  }
 ],
 "metadata": {
  "accelerator": "GPU",
  "colab": {
   "gpuType": "T4",
   "provenance": []
  },
  "kaggle": {
   "accelerator": "nvidiaTeslaT4",
   "dataSources": [
    {
     "datasetId": 7346220,
     "sourceId": 11703799,
     "sourceType": "datasetVersion"
    }
   ],
   "dockerImageVersionId": 31011,
   "isGpuEnabled": true,
   "isInternetEnabled": true,
   "language": "python",
   "sourceType": "notebook"
  },
  "kernelspec": {
   "display_name": "Python 3 (ipykernel)",
   "language": "python",
   "name": "python3"
  },
  "language_info": {
   "codemirror_mode": {
    "name": "ipython",
    "version": 3
   },
   "file_extension": ".py",
   "mimetype": "text/x-python",
   "name": "python",
   "nbconvert_exporter": "python",
   "pygments_lexer": "ipython3",
   "version": "3.9.18"
  },
  "widgets": {
   "application/vnd.jupyter.widget-state+json": {
    "0552146e1e2143be9a6679bb1fddf806": {
     "model_module": "@jupyter-widgets/controls",
     "model_module_version": "1.5.0",
     "model_name": "FloatProgressModel",
     "state": {
      "_dom_classes": [],
      "_model_module": "@jupyter-widgets/controls",
      "_model_module_version": "1.5.0",
      "_model_name": "FloatProgressModel",
      "_view_count": null,
      "_view_module": "@jupyter-widgets/controls",
      "_view_module_version": "1.5.0",
      "_view_name": "ProgressView",
      "bar_style": "",
      "description": "",
      "description_tooltip": null,
      "layout": "IPY_MODEL_b8202d7c94854bd4a2f681935cc1b44d",
      "max": 1,
      "min": 0,
      "orientation": "horizontal",
      "style": "IPY_MODEL_d6ca43b42da34c318fe6f4d70b0fecb7",
      "value": 1
     }
    },
    "086e05f80448427db7b47a29f69bccc9": {
     "model_module": "@jupyter-widgets/base",
     "model_module_version": "1.2.0",
     "model_name": "LayoutModel",
     "state": {
      "_model_module": "@jupyter-widgets/base",
      "_model_module_version": "1.2.0",
      "_model_name": "LayoutModel",
      "_view_count": null,
      "_view_module": "@jupyter-widgets/base",
      "_view_module_version": "1.2.0",
      "_view_name": "LayoutView",
      "align_content": null,
      "align_items": null,
      "align_self": null,
      "border": null,
      "bottom": null,
      "display": null,
      "flex": null,
      "flex_flow": null,
      "grid_area": null,
      "grid_auto_columns": null,
      "grid_auto_flow": null,
      "grid_auto_rows": null,
      "grid_column": null,
      "grid_gap": null,
      "grid_row": null,
      "grid_template_areas": null,
      "grid_template_columns": null,
      "grid_template_rows": null,
      "height": null,
      "justify_content": null,
      "justify_items": null,
      "left": null,
      "margin": null,
      "max_height": null,
      "max_width": null,
      "min_height": null,
      "min_width": null,
      "object_fit": null,
      "object_position": null,
      "order": null,
      "overflow": null,
      "overflow_x": null,
      "overflow_y": null,
      "padding": null,
      "right": null,
      "top": null,
      "visibility": null,
      "width": null
     }
    },
    "0d305562ee354b2580cf368dd88e770d": {
     "model_module": "@jupyter-widgets/base",
     "model_module_version": "1.2.0",
     "model_name": "LayoutModel",
     "state": {
      "_model_module": "@jupyter-widgets/base",
      "_model_module_version": "1.2.0",
      "_model_name": "LayoutModel",
      "_view_count": null,
      "_view_module": "@jupyter-widgets/base",
      "_view_module_version": "1.2.0",
      "_view_name": "LayoutView",
      "align_content": null,
      "align_items": null,
      "align_self": null,
      "border": null,
      "bottom": null,
      "display": null,
      "flex": "2",
      "flex_flow": null,
      "grid_area": null,
      "grid_auto_columns": null,
      "grid_auto_flow": null,
      "grid_auto_rows": null,
      "grid_column": null,
      "grid_gap": null,
      "grid_row": null,
      "grid_template_areas": null,
      "grid_template_columns": null,
      "grid_template_rows": null,
      "height": null,
      "justify_content": null,
      "justify_items": null,
      "left": null,
      "margin": null,
      "max_height": null,
      "max_width": null,
      "min_height": null,
      "min_width": null,
      "object_fit": null,
      "object_position": null,
      "order": null,
      "overflow": null,
      "overflow_x": null,
      "overflow_y": null,
      "padding": null,
      "right": null,
      "top": null,
      "visibility": null,
      "width": null
     }
    },
    "1a94aa42f2ec45cba4517e28c82bde65": {
     "model_module": "@jupyter-widgets/base",
     "model_module_version": "1.2.0",
     "model_name": "LayoutModel",
     "state": {
      "_model_module": "@jupyter-widgets/base",
      "_model_module_version": "1.2.0",
      "_model_name": "LayoutModel",
      "_view_count": null,
      "_view_module": "@jupyter-widgets/base",
      "_view_module_version": "1.2.0",
      "_view_name": "LayoutView",
      "align_content": null,
      "align_items": null,
      "align_self": null,
      "border": null,
      "bottom": null,
      "display": null,
      "flex": null,
      "flex_flow": null,
      "grid_area": null,
      "grid_auto_columns": null,
      "grid_auto_flow": null,
      "grid_auto_rows": null,
      "grid_column": null,
      "grid_gap": null,
      "grid_row": null,
      "grid_template_areas": null,
      "grid_template_columns": null,
      "grid_template_rows": null,
      "height": null,
      "justify_content": null,
      "justify_items": null,
      "left": null,
      "margin": null,
      "max_height": null,
      "max_width": null,
      "min_height": null,
      "min_width": null,
      "object_fit": null,
      "object_position": null,
      "order": null,
      "overflow": null,
      "overflow_x": null,
      "overflow_y": null,
      "padding": null,
      "right": null,
      "top": null,
      "visibility": null,
      "width": null
     }
    },
    "474267174073429ba51590d9f1974c91": {
     "model_module": "@jupyter-widgets/base",
     "model_module_version": "1.2.0",
     "model_name": "LayoutModel",
     "state": {
      "_model_module": "@jupyter-widgets/base",
      "_model_module_version": "1.2.0",
      "_model_name": "LayoutModel",
      "_view_count": null,
      "_view_module": "@jupyter-widgets/base",
      "_view_module_version": "1.2.0",
      "_view_name": "LayoutView",
      "align_content": null,
      "align_items": null,
      "align_self": null,
      "border": null,
      "bottom": null,
      "display": "inline-flex",
      "flex": null,
      "flex_flow": "row wrap",
      "grid_area": null,
      "grid_auto_columns": null,
      "grid_auto_flow": null,
      "grid_auto_rows": null,
      "grid_column": null,
      "grid_gap": null,
      "grid_row": null,
      "grid_template_areas": null,
      "grid_template_columns": null,
      "grid_template_rows": null,
      "height": null,
      "justify_content": null,
      "justify_items": null,
      "left": null,
      "margin": null,
      "max_height": null,
      "max_width": null,
      "min_height": null,
      "min_width": null,
      "object_fit": null,
      "object_position": null,
      "order": null,
      "overflow": null,
      "overflow_x": null,
      "overflow_y": null,
      "padding": null,
      "right": null,
      "top": null,
      "visibility": null,
      "width": "100%"
     }
    },
    "48f5e4ad166c4c778a7373c8591ff865": {
     "model_module": "@jupyter-widgets/controls",
     "model_module_version": "1.5.0",
     "model_name": "HTMLModel",
     "state": {
      "_dom_classes": [],
      "_model_module": "@jupyter-widgets/controls",
      "_model_module_version": "1.5.0",
      "_model_name": "HTMLModel",
      "_view_count": null,
      "_view_module": "@jupyter-widgets/controls",
      "_view_module_version": "1.5.0",
      "_view_name": "HTMLView",
      "description": "",
      "description_tooltip": null,
      "layout": "IPY_MODEL_a0ab2373a2db4630a4edc00d85aa12ee",
      "placeholder": "​",
      "style": "IPY_MODEL_b9f2f319a0004d99a4eb387d1f77dd56",
      "value": " 2/2 [00:00&lt;00:00, 12.99it/s]"
     }
    },
    "4933e732da1e418eba11e5619eb7e3eb": {
     "model_module": "@jupyter-widgets/base",
     "model_module_version": "1.2.0",
     "model_name": "LayoutModel",
     "state": {
      "_model_module": "@jupyter-widgets/base",
      "_model_module_version": "1.2.0",
      "_model_name": "LayoutModel",
      "_view_count": null,
      "_view_module": "@jupyter-widgets/base",
      "_view_module_version": "1.2.0",
      "_view_name": "LayoutView",
      "align_content": null,
      "align_items": null,
      "align_self": null,
      "border": null,
      "bottom": null,
      "display": "inline-flex",
      "flex": null,
      "flex_flow": "row wrap",
      "grid_area": null,
      "grid_auto_columns": null,
      "grid_auto_flow": null,
      "grid_auto_rows": null,
      "grid_column": null,
      "grid_gap": null,
      "grid_row": null,
      "grid_template_areas": null,
      "grid_template_columns": null,
      "grid_template_rows": null,
      "height": null,
      "justify_content": null,
      "justify_items": null,
      "left": null,
      "margin": null,
      "max_height": null,
      "max_width": null,
      "min_height": null,
      "min_width": null,
      "object_fit": null,
      "object_position": null,
      "order": null,
      "overflow": null,
      "overflow_x": null,
      "overflow_y": null,
      "padding": null,
      "right": null,
      "top": null,
      "visibility": "hidden",
      "width": "100%"
     }
    },
    "58464e6c01b245f7abbff7e2bbc0c554": {
     "model_module": "@jupyter-widgets/controls",
     "model_module_version": "1.5.0",
     "model_name": "HTMLModel",
     "state": {
      "_dom_classes": [],
      "_model_module": "@jupyter-widgets/controls",
      "_model_module_version": "1.5.0",
      "_model_name": "HTMLModel",
      "_view_count": null,
      "_view_module": "@jupyter-widgets/controls",
      "_view_module_version": "1.5.0",
      "_view_name": "HTMLView",
      "description": "",
      "description_tooltip": null,
      "layout": "IPY_MODEL_bb832112cb4c470ca9d549af461fc421",
      "placeholder": "​",
      "style": "IPY_MODEL_af337a177cb34155b1a21b1047ccee8e",
      "value": "Sanity Checking DataLoader 0: 100%"
     }
    },
    "64dd9ff2ecbe4836b78658eb8a2dcea6": {
     "model_module": "@jupyter-widgets/controls",
     "model_module_version": "1.5.0",
     "model_name": "HTMLModel",
     "state": {
      "_dom_classes": [],
      "_model_module": "@jupyter-widgets/controls",
      "_model_module_version": "1.5.0",
      "_model_name": "HTMLModel",
      "_view_count": null,
      "_view_module": "@jupyter-widgets/controls",
      "_view_module_version": "1.5.0",
      "_view_name": "HTMLView",
      "description": "",
      "description_tooltip": null,
      "layout": "IPY_MODEL_086e05f80448427db7b47a29f69bccc9",
      "placeholder": "​",
      "style": "IPY_MODEL_da9a4f632f814177ab12597b60536c83",
      "value": "Epoch 0: "
     }
    },
    "6a6540cc7b684cb2a51e870f0517157c": {
     "model_module": "@jupyter-widgets/controls",
     "model_module_version": "1.5.0",
     "model_name": "DescriptionStyleModel",
     "state": {
      "_model_module": "@jupyter-widgets/controls",
      "_model_module_version": "1.5.0",
      "_model_name": "DescriptionStyleModel",
      "_view_count": null,
      "_view_module": "@jupyter-widgets/base",
      "_view_module_version": "1.2.0",
      "_view_name": "StyleView",
      "description_width": ""
     }
    },
    "71562f76030448e4b6fd3f1d8726677f": {
     "model_module": "@jupyter-widgets/controls",
     "model_module_version": "1.5.0",
     "model_name": "FloatProgressModel",
     "state": {
      "_dom_classes": [],
      "_model_module": "@jupyter-widgets/controls",
      "_model_module_version": "1.5.0",
      "_model_name": "FloatProgressModel",
      "_view_count": null,
      "_view_module": "@jupyter-widgets/controls",
      "_view_module_version": "1.5.0",
      "_view_name": "ProgressView",
      "bar_style": "",
      "description": "",
      "description_tooltip": null,
      "layout": "IPY_MODEL_c3dbc24c64b64e8aa1b36a0c79ef8797",
      "max": 2,
      "min": 0,
      "orientation": "horizontal",
      "style": "IPY_MODEL_7b92ede60f184532856eba206a8a8924",
      "value": 2
     }
    },
    "77b470430c804255b830bf0b8226fb9a": {
     "model_module": "@jupyter-widgets/controls",
     "model_module_version": "1.5.0",
     "model_name": "HTMLModel",
     "state": {
      "_dom_classes": [],
      "_model_module": "@jupyter-widgets/controls",
      "_model_module_version": "1.5.0",
      "_model_name": "HTMLModel",
      "_view_count": null,
      "_view_module": "@jupyter-widgets/controls",
      "_view_module_version": "1.5.0",
      "_view_name": "HTMLView",
      "description": "",
      "description_tooltip": null,
      "layout": "IPY_MODEL_e93b1345a2df484b8d851015c0eabeb2",
      "placeholder": "​",
      "style": "IPY_MODEL_9342cbb8eaf34a66a622512b2b14ec36",
      "value": " 780/? [00:34&lt;00:00, 22.43it/s]"
     }
    },
    "7b92ede60f184532856eba206a8a8924": {
     "model_module": "@jupyter-widgets/controls",
     "model_module_version": "1.5.0",
     "model_name": "ProgressStyleModel",
     "state": {
      "_model_module": "@jupyter-widgets/controls",
      "_model_module_version": "1.5.0",
      "_model_name": "ProgressStyleModel",
      "_view_count": null,
      "_view_module": "@jupyter-widgets/base",
      "_view_module_version": "1.2.0",
      "_view_name": "StyleView",
      "bar_color": null,
      "description_width": ""
     }
    },
    "7e4bc3df7d0b483898daf526b09cf6d9": {
     "model_module": "@jupyter-widgets/controls",
     "model_module_version": "1.5.0",
     "model_name": "FloatProgressModel",
     "state": {
      "_dom_classes": [],
      "_model_module": "@jupyter-widgets/controls",
      "_model_module_version": "1.5.0",
      "_model_name": "FloatProgressModel",
      "_view_count": null,
      "_view_module": "@jupyter-widgets/controls",
      "_view_module_version": "1.5.0",
      "_view_name": "ProgressView",
      "bar_style": "success",
      "description": "",
      "description_tooltip": null,
      "layout": "IPY_MODEL_0d305562ee354b2580cf368dd88e770d",
      "max": 1,
      "min": 0,
      "orientation": "horizontal",
      "style": "IPY_MODEL_aeba3f6f9c6d4af9a41d3370656b4761",
      "value": 1
     }
    },
    "9342cbb8eaf34a66a622512b2b14ec36": {
     "model_module": "@jupyter-widgets/controls",
     "model_module_version": "1.5.0",
     "model_name": "DescriptionStyleModel",
     "state": {
      "_model_module": "@jupyter-widgets/controls",
      "_model_module_version": "1.5.0",
      "_model_name": "DescriptionStyleModel",
      "_view_count": null,
      "_view_module": "@jupyter-widgets/base",
      "_view_module_version": "1.2.0",
      "_view_name": "StyleView",
      "description_width": ""
     }
    },
    "9dce0819b6c14aadb5ce9f53d5071930": {
     "model_module": "@jupyter-widgets/controls",
     "model_module_version": "1.5.0",
     "model_name": "HBoxModel",
     "state": {
      "_dom_classes": [],
      "_model_module": "@jupyter-widgets/controls",
      "_model_module_version": "1.5.0",
      "_model_name": "HBoxModel",
      "_view_count": null,
      "_view_module": "@jupyter-widgets/controls",
      "_view_module_version": "1.5.0",
      "_view_name": "HBoxView",
      "box_style": "",
      "children": [
       "IPY_MODEL_58464e6c01b245f7abbff7e2bbc0c554",
       "IPY_MODEL_71562f76030448e4b6fd3f1d8726677f",
       "IPY_MODEL_48f5e4ad166c4c778a7373c8591ff865"
      ],
      "layout": "IPY_MODEL_4933e732da1e418eba11e5619eb7e3eb"
     }
    },
    "a0ab2373a2db4630a4edc00d85aa12ee": {
     "model_module": "@jupyter-widgets/base",
     "model_module_version": "1.2.0",
     "model_name": "LayoutModel",
     "state": {
      "_model_module": "@jupyter-widgets/base",
      "_model_module_version": "1.2.0",
      "_model_name": "LayoutModel",
      "_view_count": null,
      "_view_module": "@jupyter-widgets/base",
      "_view_module_version": "1.2.0",
      "_view_name": "LayoutView",
      "align_content": null,
      "align_items": null,
      "align_self": null,
      "border": null,
      "bottom": null,
      "display": null,
      "flex": null,
      "flex_flow": null,
      "grid_area": null,
      "grid_auto_columns": null,
      "grid_auto_flow": null,
      "grid_auto_rows": null,
      "grid_column": null,
      "grid_gap": null,
      "grid_row": null,
      "grid_template_areas": null,
      "grid_template_columns": null,
      "grid_template_rows": null,
      "height": null,
      "justify_content": null,
      "justify_items": null,
      "left": null,
      "margin": null,
      "max_height": null,
      "max_width": null,
      "min_height": null,
      "min_width": null,
      "object_fit": null,
      "object_position": null,
      "order": null,
      "overflow": null,
      "overflow_x": null,
      "overflow_y": null,
      "padding": null,
      "right": null,
      "top": null,
      "visibility": null,
      "width": null
     }
    },
    "aeba3f6f9c6d4af9a41d3370656b4761": {
     "model_module": "@jupyter-widgets/controls",
     "model_module_version": "1.5.0",
     "model_name": "ProgressStyleModel",
     "state": {
      "_model_module": "@jupyter-widgets/controls",
      "_model_module_version": "1.5.0",
      "_model_name": "ProgressStyleModel",
      "_view_count": null,
      "_view_module": "@jupyter-widgets/base",
      "_view_module_version": "1.2.0",
      "_view_name": "StyleView",
      "bar_color": null,
      "description_width": ""
     }
    },
    "af337a177cb34155b1a21b1047ccee8e": {
     "model_module": "@jupyter-widgets/controls",
     "model_module_version": "1.5.0",
     "model_name": "DescriptionStyleModel",
     "state": {
      "_model_module": "@jupyter-widgets/controls",
      "_model_module_version": "1.5.0",
      "_model_name": "DescriptionStyleModel",
      "_view_count": null,
      "_view_module": "@jupyter-widgets/base",
      "_view_module_version": "1.2.0",
      "_view_name": "StyleView",
      "description_width": ""
     }
    },
    "b0fb38b258a641598210f731a829aa1d": {
     "model_module": "@jupyter-widgets/base",
     "model_module_version": "1.2.0",
     "model_name": "LayoutModel",
     "state": {
      "_model_module": "@jupyter-widgets/base",
      "_model_module_version": "1.2.0",
      "_model_name": "LayoutModel",
      "_view_count": null,
      "_view_module": "@jupyter-widgets/base",
      "_view_module_version": "1.2.0",
      "_view_name": "LayoutView",
      "align_content": null,
      "align_items": null,
      "align_self": null,
      "border": null,
      "bottom": null,
      "display": "inline-flex",
      "flex": null,
      "flex_flow": "row wrap",
      "grid_area": null,
      "grid_auto_columns": null,
      "grid_auto_flow": null,
      "grid_auto_rows": null,
      "grid_column": null,
      "grid_gap": null,
      "grid_row": null,
      "grid_template_areas": null,
      "grid_template_columns": null,
      "grid_template_rows": null,
      "height": null,
      "justify_content": null,
      "justify_items": null,
      "left": null,
      "margin": null,
      "max_height": null,
      "max_width": null,
      "min_height": null,
      "min_width": null,
      "object_fit": null,
      "object_position": null,
      "order": null,
      "overflow": null,
      "overflow_x": null,
      "overflow_y": null,
      "padding": null,
      "right": null,
      "top": null,
      "visibility": "hidden",
      "width": "100%"
     }
    },
    "b6fdb262a4374f29833c72ca9d81ab1e": {
     "model_module": "@jupyter-widgets/controls",
     "model_module_version": "1.5.0",
     "model_name": "HBoxModel",
     "state": {
      "_dom_classes": [],
      "_model_module": "@jupyter-widgets/controls",
      "_model_module_version": "1.5.0",
      "_model_name": "HBoxModel",
      "_view_count": null,
      "_view_module": "@jupyter-widgets/controls",
      "_view_module_version": "1.5.0",
      "_view_name": "HBoxView",
      "box_style": "",
      "children": [
       "IPY_MODEL_d3ae955091af4cb19666e808c19a2d7d",
       "IPY_MODEL_0552146e1e2143be9a6679bb1fddf806",
       "IPY_MODEL_77b470430c804255b830bf0b8226fb9a"
      ],
      "layout": "IPY_MODEL_b0fb38b258a641598210f731a829aa1d"
     }
    },
    "b8202d7c94854bd4a2f681935cc1b44d": {
     "model_module": "@jupyter-widgets/base",
     "model_module_version": "1.2.0",
     "model_name": "LayoutModel",
     "state": {
      "_model_module": "@jupyter-widgets/base",
      "_model_module_version": "1.2.0",
      "_model_name": "LayoutModel",
      "_view_count": null,
      "_view_module": "@jupyter-widgets/base",
      "_view_module_version": "1.2.0",
      "_view_name": "LayoutView",
      "align_content": null,
      "align_items": null,
      "align_self": null,
      "border": null,
      "bottom": null,
      "display": null,
      "flex": "2",
      "flex_flow": null,
      "grid_area": null,
      "grid_auto_columns": null,
      "grid_auto_flow": null,
      "grid_auto_rows": null,
      "grid_column": null,
      "grid_gap": null,
      "grid_row": null,
      "grid_template_areas": null,
      "grid_template_columns": null,
      "grid_template_rows": null,
      "height": null,
      "justify_content": null,
      "justify_items": null,
      "left": null,
      "margin": null,
      "max_height": null,
      "max_width": null,
      "min_height": null,
      "min_width": null,
      "object_fit": null,
      "object_position": null,
      "order": null,
      "overflow": null,
      "overflow_x": null,
      "overflow_y": null,
      "padding": null,
      "right": null,
      "top": null,
      "visibility": null,
      "width": null
     }
    },
    "b9f2f319a0004d99a4eb387d1f77dd56": {
     "model_module": "@jupyter-widgets/controls",
     "model_module_version": "1.5.0",
     "model_name": "DescriptionStyleModel",
     "state": {
      "_model_module": "@jupyter-widgets/controls",
      "_model_module_version": "1.5.0",
      "_model_name": "DescriptionStyleModel",
      "_view_count": null,
      "_view_module": "@jupyter-widgets/base",
      "_view_module_version": "1.2.0",
      "_view_name": "StyleView",
      "description_width": ""
     }
    },
    "bb832112cb4c470ca9d549af461fc421": {
     "model_module": "@jupyter-widgets/base",
     "model_module_version": "1.2.0",
     "model_name": "LayoutModel",
     "state": {
      "_model_module": "@jupyter-widgets/base",
      "_model_module_version": "1.2.0",
      "_model_name": "LayoutModel",
      "_view_count": null,
      "_view_module": "@jupyter-widgets/base",
      "_view_module_version": "1.2.0",
      "_view_name": "LayoutView",
      "align_content": null,
      "align_items": null,
      "align_self": null,
      "border": null,
      "bottom": null,
      "display": null,
      "flex": null,
      "flex_flow": null,
      "grid_area": null,
      "grid_auto_columns": null,
      "grid_auto_flow": null,
      "grid_auto_rows": null,
      "grid_column": null,
      "grid_gap": null,
      "grid_row": null,
      "grid_template_areas": null,
      "grid_template_columns": null,
      "grid_template_rows": null,
      "height": null,
      "justify_content": null,
      "justify_items": null,
      "left": null,
      "margin": null,
      "max_height": null,
      "max_width": null,
      "min_height": null,
      "min_width": null,
      "object_fit": null,
      "object_position": null,
      "order": null,
      "overflow": null,
      "overflow_x": null,
      "overflow_y": null,
      "padding": null,
      "right": null,
      "top": null,
      "visibility": null,
      "width": null
     }
    },
    "c3dbc24c64b64e8aa1b36a0c79ef8797": {
     "model_module": "@jupyter-widgets/base",
     "model_module_version": "1.2.0",
     "model_name": "LayoutModel",
     "state": {
      "_model_module": "@jupyter-widgets/base",
      "_model_module_version": "1.2.0",
      "_model_name": "LayoutModel",
      "_view_count": null,
      "_view_module": "@jupyter-widgets/base",
      "_view_module_version": "1.2.0",
      "_view_name": "LayoutView",
      "align_content": null,
      "align_items": null,
      "align_self": null,
      "border": null,
      "bottom": null,
      "display": null,
      "flex": "2",
      "flex_flow": null,
      "grid_area": null,
      "grid_auto_columns": null,
      "grid_auto_flow": null,
      "grid_auto_rows": null,
      "grid_column": null,
      "grid_gap": null,
      "grid_row": null,
      "grid_template_areas": null,
      "grid_template_columns": null,
      "grid_template_rows": null,
      "height": null,
      "justify_content": null,
      "justify_items": null,
      "left": null,
      "margin": null,
      "max_height": null,
      "max_width": null,
      "min_height": null,
      "min_width": null,
      "object_fit": null,
      "object_position": null,
      "order": null,
      "overflow": null,
      "overflow_x": null,
      "overflow_y": null,
      "padding": null,
      "right": null,
      "top": null,
      "visibility": null,
      "width": null
     }
    },
    "c65f5305fe484514b87cf351475998ea": {
     "model_module": "@jupyter-widgets/controls",
     "model_module_version": "1.5.0",
     "model_name": "HTMLModel",
     "state": {
      "_dom_classes": [],
      "_model_module": "@jupyter-widgets/controls",
      "_model_module_version": "1.5.0",
      "_model_name": "HTMLModel",
      "_view_count": null,
      "_view_module": "@jupyter-widgets/controls",
      "_view_module_version": "1.5.0",
      "_view_name": "HTMLView",
      "description": "",
      "description_tooltip": null,
      "layout": "IPY_MODEL_f0a5479fd8d84609bc70365a297e5fd6",
      "placeholder": "​",
      "style": "IPY_MODEL_6a6540cc7b684cb2a51e870f0517157c",
      "value": " 7800/? [10:46&lt;00:00, 12.06it/s, v_num=0, val_loss=0.141, train_loss=0.197]"
     }
    },
    "d2ae68bdefe74f9fa35723d0b5fc0e47": {
     "model_module": "@jupyter-widgets/controls",
     "model_module_version": "1.5.0",
     "model_name": "DescriptionStyleModel",
     "state": {
      "_model_module": "@jupyter-widgets/controls",
      "_model_module_version": "1.5.0",
      "_model_name": "DescriptionStyleModel",
      "_view_count": null,
      "_view_module": "@jupyter-widgets/base",
      "_view_module_version": "1.2.0",
      "_view_name": "StyleView",
      "description_width": ""
     }
    },
    "d3ae955091af4cb19666e808c19a2d7d": {
     "model_module": "@jupyter-widgets/controls",
     "model_module_version": "1.5.0",
     "model_name": "HTMLModel",
     "state": {
      "_dom_classes": [],
      "_model_module": "@jupyter-widgets/controls",
      "_model_module_version": "1.5.0",
      "_model_name": "HTMLModel",
      "_view_count": null,
      "_view_module": "@jupyter-widgets/controls",
      "_view_module_version": "1.5.0",
      "_view_name": "HTMLView",
      "description": "",
      "description_tooltip": null,
      "layout": "IPY_MODEL_1a94aa42f2ec45cba4517e28c82bde65",
      "placeholder": "​",
      "style": "IPY_MODEL_d2ae68bdefe74f9fa35723d0b5fc0e47",
      "value": "Validation DataLoader 0: "
     }
    },
    "d6ca43b42da34c318fe6f4d70b0fecb7": {
     "model_module": "@jupyter-widgets/controls",
     "model_module_version": "1.5.0",
     "model_name": "ProgressStyleModel",
     "state": {
      "_model_module": "@jupyter-widgets/controls",
      "_model_module_version": "1.5.0",
      "_model_name": "ProgressStyleModel",
      "_view_count": null,
      "_view_module": "@jupyter-widgets/base",
      "_view_module_version": "1.2.0",
      "_view_name": "StyleView",
      "bar_color": null,
      "description_width": ""
     }
    },
    "da9a4f632f814177ab12597b60536c83": {
     "model_module": "@jupyter-widgets/controls",
     "model_module_version": "1.5.0",
     "model_name": "DescriptionStyleModel",
     "state": {
      "_model_module": "@jupyter-widgets/controls",
      "_model_module_version": "1.5.0",
      "_model_name": "DescriptionStyleModel",
      "_view_count": null,
      "_view_module": "@jupyter-widgets/base",
      "_view_module_version": "1.2.0",
      "_view_name": "StyleView",
      "description_width": ""
     }
    },
    "ddddb34722804fed9f8fd92d7babdab7": {
     "model_module": "@jupyter-widgets/controls",
     "model_module_version": "1.5.0",
     "model_name": "HBoxModel",
     "state": {
      "_dom_classes": [],
      "_model_module": "@jupyter-widgets/controls",
      "_model_module_version": "1.5.0",
      "_model_name": "HBoxModel",
      "_view_count": null,
      "_view_module": "@jupyter-widgets/controls",
      "_view_module_version": "1.5.0",
      "_view_name": "HBoxView",
      "box_style": "",
      "children": [
       "IPY_MODEL_64dd9ff2ecbe4836b78658eb8a2dcea6",
       "IPY_MODEL_7e4bc3df7d0b483898daf526b09cf6d9",
       "IPY_MODEL_c65f5305fe484514b87cf351475998ea"
      ],
      "layout": "IPY_MODEL_474267174073429ba51590d9f1974c91"
     }
    },
    "e93b1345a2df484b8d851015c0eabeb2": {
     "model_module": "@jupyter-widgets/base",
     "model_module_version": "1.2.0",
     "model_name": "LayoutModel",
     "state": {
      "_model_module": "@jupyter-widgets/base",
      "_model_module_version": "1.2.0",
      "_model_name": "LayoutModel",
      "_view_count": null,
      "_view_module": "@jupyter-widgets/base",
      "_view_module_version": "1.2.0",
      "_view_name": "LayoutView",
      "align_content": null,
      "align_items": null,
      "align_self": null,
      "border": null,
      "bottom": null,
      "display": null,
      "flex": null,
      "flex_flow": null,
      "grid_area": null,
      "grid_auto_columns": null,
      "grid_auto_flow": null,
      "grid_auto_rows": null,
      "grid_column": null,
      "grid_gap": null,
      "grid_row": null,
      "grid_template_areas": null,
      "grid_template_columns": null,
      "grid_template_rows": null,
      "height": null,
      "justify_content": null,
      "justify_items": null,
      "left": null,
      "margin": null,
      "max_height": null,
      "max_width": null,
      "min_height": null,
      "min_width": null,
      "object_fit": null,
      "object_position": null,
      "order": null,
      "overflow": null,
      "overflow_x": null,
      "overflow_y": null,
      "padding": null,
      "right": null,
      "top": null,
      "visibility": null,
      "width": null
     }
    },
    "f0a5479fd8d84609bc70365a297e5fd6": {
     "model_module": "@jupyter-widgets/base",
     "model_module_version": "1.2.0",
     "model_name": "LayoutModel",
     "state": {
      "_model_module": "@jupyter-widgets/base",
      "_model_module_version": "1.2.0",
      "_model_name": "LayoutModel",
      "_view_count": null,
      "_view_module": "@jupyter-widgets/base",
      "_view_module_version": "1.2.0",
      "_view_name": "LayoutView",
      "align_content": null,
      "align_items": null,
      "align_self": null,
      "border": null,
      "bottom": null,
      "display": null,
      "flex": null,
      "flex_flow": null,
      "grid_area": null,
      "grid_auto_columns": null,
      "grid_auto_flow": null,
      "grid_auto_rows": null,
      "grid_column": null,
      "grid_gap": null,
      "grid_row": null,
      "grid_template_areas": null,
      "grid_template_columns": null,
      "grid_template_rows": null,
      "height": null,
      "justify_content": null,
      "justify_items": null,
      "left": null,
      "margin": null,
      "max_height": null,
      "max_width": null,
      "min_height": null,
      "min_width": null,
      "object_fit": null,
      "object_position": null,
      "order": null,
      "overflow": null,
      "overflow_x": null,
      "overflow_y": null,
      "padding": null,
      "right": null,
      "top": null,
      "visibility": null,
      "width": null
     }
    }
   }
  }
 },
 "nbformat": 4,
 "nbformat_minor": 4
}
