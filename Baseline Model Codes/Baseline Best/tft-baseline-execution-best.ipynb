{
 "cells": [
  {
   "cell_type": "code",
   "execution_count": 1,
   "metadata": {
    "colab": {
     "base_uri": "https://localhost:8080/"
    },
    "id": "mZSQm4kVe6aY",
    "outputId": "bf95f08c-1966-4241-f8c2-808e1ea4fd49"
   },
   "outputs": [],
   "source": [
    "# ─── Cell 1: Patch the mean warning and silence logging ───\n",
    "import warnings, numpy as np, logging\n",
    "from gluonts.model import forecast as _fm\n",
    "\n",
    "# Silence the specific UserWarning\n",
    "warnings.filterwarnings(\n",
    "    \"ignore\",\n",
    "    message=r\"The mean prediction is not stored in the forecast data; the median is being returned instead\\. This behaviour may change in the future\\.\"\n",
    ")\n",
    "# Disable all WARNING and below from all loggers (including GluonTS internals)\n",
    "logging.disable(logging.WARNING)\n",
    "\n",
    "# Override .mean on the original classes (in-place)\n",
    "def _silent_mean(self):\n",
    "    fd = getattr(self, \"_forecast_dict\", {})\n",
    "    if \"mean\" in fd:\n",
    "        return fd[\"mean\"]\n",
    "    if hasattr(self, \"samples\"):\n",
    "        return np.median(self.samples, axis=0)\n",
    "    return self.quantile(\"p50\")\n",
    "\n",
    "_fm.SampleForecast.mean   = property(_silent_mean)\n",
    "_fm.QuantileForecast.mean = property(_silent_mean)\n",
    "# ────────────────────────────────────────────────────────────"
   ]
  },
  {
   "cell_type": "code",
   "execution_count": 2,
   "metadata": {
    "id": "Ea7HqpYmtXac"
   },
   "outputs": [],
   "source": [
    "# ─── Cell 2: Core imports ───\n",
    "import torch\n",
    "import time\n",
    "import pandas as pd\n",
    "from gluonts.dataset.common import ListDataset\n",
    "from gluonts.dataset.field_names import FieldName\n",
    "from gluonts.evaluation import Evaluator\n",
    "from gluonts.evaluation.backtest import make_evaluation_predictions\n",
    "from gluonts.torch.model.tft import TemporalFusionTransformerEstimator\n",
    "import optuna\n",
    "from optuna.samplers import TPESampler\n",
    "\n",
    "from pytorch_lightning.utilities.model_summary import ModelSummary\n",
    "# ─────────────────────────"
   ]
  },
  {
   "cell_type": "code",
   "execution_count": 3,
   "metadata": {
    "id": "baqN6PWMn7FV"
   },
   "outputs": [],
   "source": [
    "from sklearn.preprocessing import StandardScaler, LabelEncoder\n",
    "\n",
    "prediction_length = 24\n",
    "context_length = 168\n",
    "window_length = context_length + prediction_length\n",
    "freq = \"1h\"\n",
    "\n",
    "def get_electricity_dataset(csv_path: str, total_samples=500_000):\n",
    "    df = pd.read_csv(csv_path, index_col=0)\n",
    "    df[\"date\"] = pd.to_datetime(df[\"date\"])\n",
    "\n",
    "    # Encode categorical ID\n",
    "    label_encoder = LabelEncoder()\n",
    "    df[\"categorical_id\"] = label_encoder.fit_transform(df[\"categorical_id\"].astype(str))\n",
    "\n",
    "    # Limit data to Jan 1 – Sep 1, 2014 (i.e., days_from_start < 1339)\n",
    "    full_range_df = df[df[\"days_from_start\"] < 1339]\n",
    "\n",
    "    # Sample sliding windows over full range\n",
    "    def sample_windows(subset_df):\n",
    "        samples = []\n",
    "        for entity_id, group in subset_df.groupby(\"id\"):\n",
    "            group = group.sort_values(\"date\")\n",
    "            if len(group) < window_length:\n",
    "                continue\n",
    "\n",
    "            scaler = StandardScaler().fit(group[[\"power_usage\", \"hour\", \"day_of_week\", \"t\"]].values)\n",
    "            target_scaler = StandardScaler().fit(group[[\"power_usage\"]].values)\n",
    "\n",
    "            features = scaler.transform(group[[\"power_usage\", \"hour\", \"day_of_week\", \"t\"]].values)\n",
    "            targets = target_scaler.transform(group[[\"power_usage\"]].values).flatten().astype(np.float32)\n",
    "\n",
    "            feat_hour = features[:, 1].astype(np.float32)\n",
    "            feat_dow = features[:, 2].astype(np.float32)\n",
    "            feat_time = features[:, 3].astype(np.float32)\n",
    "\n",
    "            static_cat = [group[\"categorical_id\"].iloc[0]]\n",
    "            dates = group[\"date\"].values\n",
    "\n",
    "            for i in range(0, len(group) - window_length + 1):\n",
    "                samples.append({\n",
    "                    FieldName.START: dates[i],\n",
    "                    FieldName.TARGET: targets[i:i + window_length],\n",
    "                    FieldName.FEAT_STATIC_CAT: static_cat,\n",
    "                    FieldName.FEAT_DYNAMIC_REAL: [\n",
    "                        feat_hour[i:i + window_length],\n",
    "                        feat_dow[i:i + window_length],\n",
    "                        feat_time[i:i + window_length],\n",
    "                    ],\n",
    "                })\n",
    "\n",
    "        return samples\n",
    "\n",
    "    # Step 1: All possible windows up to Sep 1\n",
    "    all_samples = sample_windows(full_range_df)\n",
    "\n",
    "    # Step 2: Shuffle and take 500,000 total\n",
    "    np.random.shuffle(all_samples)\n",
    "    all_samples = all_samples[:total_samples]\n",
    "\n",
    "    # Step 3: Split into 450k train / 50k val\n",
    "    train_samples = all_samples[:450_000]\n",
    "    val_samples = all_samples[450_000:]\n",
    "\n",
    "    # Step 4: Test set = fixed last 7 days (same as official code)\n",
    "    test_df = df[df[\"days_from_start\"] >= 1332]\n",
    "    test_samples = sample_windows(test_df)\n",
    "\n",
    "    train_ds = ListDataset(train_samples, freq=freq)\n",
    "    val_ds = ListDataset(val_samples, freq=freq)\n",
    "    test_ds = ListDataset(test_samples, freq=freq)\n",
    "\n",
    "    return train_ds, val_ds, test_ds, freq, prediction_length\n"
   ]
  },
  {
   "cell_type": "code",
   "execution_count": 4,
   "metadata": {
    "colab": {
     "base_uri": "https://localhost:8080/"
    },
    "id": "O5MGhJYHs-Bx",
    "outputId": "9acd8aaf-fb61-4bca-db7c-1ef6772a6cf2"
   },
   "outputs": [],
   "source": [
    "file_path = \"Dataset/Electricity/hourly_electricity.csv\"  # Adjust if it's in a subfolder"
   ]
  },
  {
   "cell_type": "code",
   "execution_count": 5,
   "metadata": {
    "id": "VYJr5LKtn7FW"
   },
   "outputs": [],
   "source": [
    "# ─── Cell 4: Load data & set precision ───\n",
    "train_ds, val_ds, test_ds, freq, prediction_length = get_electricity_dataset(file_path)"
   ]
  },
  {
   "cell_type": "code",
   "execution_count": 6,
   "metadata": {},
   "outputs": [],
   "source": [
    "# Step 3: Define Estimator (PyTorch-based TFT)\n",
    "estimator = TemporalFusionTransformerEstimator(\n",
    "    freq=freq,\n",
    "    prediction_length=prediction_length,\n",
    "    context_length=168,\n",
    "    static_cardinalities=[370],\n",
    "    dynamic_dims=[3],\n",
    "    past_dynamic_dims=[],\n",
    "    quantiles=[0.1, 0.5, 0.9],\n",
    "    hidden_dim=160,\n",
    "    num_heads=4,\n",
    "    batch_size=128,\n",
    "    patience=5,\n",
    "    num_batches_per_epoch=3906,  # Based on 500k / 64\n",
    "    trainer_kwargs={\n",
    "        \"accelerator\": \"gpu\" if torch.cuda.is_available() else \"cpu\",\n",
    "        \"max_epochs\": 10,\n",
    "    }\n",
    ")\n"
   ]
  },
  {
   "cell_type": "code",
   "execution_count": 7,
   "metadata": {},
   "outputs": [
    {
     "name": "stdout",
     "output_type": "stream",
     "text": [
      "    | Name                                                 | Type                            | Params | Mode  | In sizes                                                                                           | Out sizes                                                             \n",
      "-------------------------------------------------------------------------------------------------------------------------------------------------------------------------------------------------------------------------------------------------------------------------------------------------\n",
      "0   | model                                                | TemporalFusionTransformerModel  | 859 K  | train | [[1, 168], [1, 168], [1, 1], [1, 1], [1, 192, 7], [1, 192, 0], [1, 168, 0], [1, 168, 0]]           | [[[1, 24, 3]], [1, 1], [1, 1]]                                        \n",
      "1   | model.args_proj                                      | PtArgProj                       | 483    | train | [1, 24, 160]                                                                                       | [[1, 24, 3]]                                                          \n",
      "2   | model.args_proj.proj                                 | ModuleList                      | 483    | train | ?                                                                                                  | ?                                                                     \n",
      "3   | model.args_proj.proj.0                               | Linear                          | 483    | train | [1, 24, 160]                                                                                       | [1, 24, 3]                                                            \n",
      "4   | model.args_proj.domain_map                           | LambdaLayer                     | 0      | train | [1, 24, 3]                                                                                         | [[1, 24, 3]]                                                          \n",
      "5   | model.target_proj                                    | Linear                          | 64     | train | [1, 168, 1]                                                                                        | [1, 168, 32]                                                          \n",
      "6   | model.feat_dynamic_proj                              | FeatureProjector                | 384    | train | [1, 192, 7]                                                                                        | [[1, 192, 32], [1, 192, 32], [1, 192, 32], [1, 192, 32], [1, 192, 32]]\n",
      "7   | model.feat_dynamic_proj._projectors                  | ModuleList                      | 384    | train | ?                                                                                                  | ?                                                                     \n",
      "8   | model.feat_dynamic_proj._projectors.0                | Linear                          | 64     | train | [1, 192, 1]                                                                                        | [1, 192, 32]                                                          \n",
      "9   | model.feat_dynamic_proj._projectors.1                | Linear                          | 64     | train | [1, 192, 1]                                                                                        | [1, 192, 32]                                                          \n",
      "10  | model.feat_dynamic_proj._projectors.2                | Linear                          | 64     | train | [1, 192, 1]                                                                                        | [1, 192, 32]                                                          \n",
      "11  | model.feat_dynamic_proj._projectors.3                | Linear                          | 64     | train | [1, 192, 1]                                                                                        | [1, 192, 32]                                                          \n",
      "12  | model.feat_dynamic_proj._projectors.4                | Linear                          | 128    | train | [1, 192, 3]                                                                                        | [1, 192, 32]                                                          \n",
      "13  | model.feat_static_proj                               | FeatureProjector                | 64     | train | [1, 1]                                                                                             | [[1, 32]]                                                             \n",
      "14  | model.feat_static_proj._projectors                   | ModuleList                      | 64     | train | ?                                                                                                  | ?                                                                     \n",
      "15  | model.feat_static_proj._projectors.0                 | Linear                          | 64     | train | [1, 1]                                                                                             | [1, 32]                                                               \n",
      "16  | model.feat_static_embed                              | FeatureEmbedder                 | 11.8 K | train | [1, 1]                                                                                             | [[1, 32]]                                                             \n",
      "17  | model.feat_static_embed._embedders                   | ModuleList                      | 11.8 K | train | ?                                                                                                  | ?                                                                     \n",
      "18  | model.feat_static_embed._embedders.0                 | Embedding                       | 11.8 K | train | [1]                                                                                                | [1, 32]                                                               \n",
      "19  | model.static_selector                                | VariableSelectionNetwork        | 12.0 K | train | [[1, 32], [1, 32]]                                                                                 | [[1, 32], [1, 1, 2]]                                                  \n",
      "20  | model.static_selector.weight_network                 | GatedResidualNetwork            | 3.4 K  | train | [[1, 64], '?']                                                                                     | [1, 2]                                                                \n",
      "21  | model.static_selector.weight_network.skip_proj       | Linear                          | 130    | train | [1, 64]                                                                                            | [1, 2]                                                                \n",
      "22  | model.static_selector.weight_network.mlp             | Sequential                      | 3.3 K  | train | [1, 64]                                                                                            | [1, 2]                                                                \n",
      "23  | model.static_selector.weight_network.mlp.0           | Linear                          | 2.1 K  | train | [1, 64]                                                                                            | [1, 32]                                                               \n",
      "24  | model.static_selector.weight_network.mlp.1           | ELU                             | 0      | train | [1, 32]                                                                                            | [1, 32]                                                               \n",
      "25  | model.static_selector.weight_network.mlp.2           | Linear                          | 1.1 K  | train | [1, 32]                                                                                            | [1, 32]                                                               \n",
      "26  | model.static_selector.weight_network.mlp.3           | Dropout                         | 0      | train | [1, 32]                                                                                            | [1, 32]                                                               \n",
      "27  | model.static_selector.weight_network.mlp.4           | Linear                          | 132    | train | [1, 32]                                                                                            | [1, 4]                                                                \n",
      "28  | model.static_selector.weight_network.mlp.5           | GatedLinearUnit                 | 0      | train | [1, 4]                                                                                             | [1, 2]                                                                \n",
      "29  | model.static_selector.weight_network.layer_norm      | LayerNorm                       | 4      | train | [1, 2]                                                                                             | [1, 2]                                                                \n",
      "30  | model.static_selector.variable_networks              | ModuleList                      | 8.6 K  | train | ?                                                                                                  | ?                                                                     \n",
      "31  | model.static_selector.variable_networks.0            | GatedResidualNetwork            | 4.3 K  | train | [1, 32]                                                                                            | [1, 32]                                                               \n",
      "32  | model.static_selector.variable_networks.0.mlp        | Sequential                      | 4.2 K  | train | [1, 32]                                                                                            | [1, 32]                                                               \n",
      "33  | model.static_selector.variable_networks.0.mlp.0      | Linear                          | 1.1 K  | train | [1, 32]                                                                                            | [1, 32]                                                               \n",
      "34  | model.static_selector.variable_networks.0.mlp.1      | ELU                             | 0      | train | [1, 32]                                                                                            | [1, 32]                                                               \n",
      "35  | model.static_selector.variable_networks.0.mlp.2      | Linear                          | 1.1 K  | train | [1, 32]                                                                                            | [1, 32]                                                               \n",
      "36  | model.static_selector.variable_networks.0.mlp.3      | Dropout                         | 0      | train | [1, 32]                                                                                            | [1, 32]                                                               \n",
      "37  | model.static_selector.variable_networks.0.mlp.4      | Linear                          | 2.1 K  | train | [1, 32]                                                                                            | [1, 64]                                                               \n",
      "38  | model.static_selector.variable_networks.0.mlp.5      | GatedLinearUnit                 | 0      | train | [1, 64]                                                                                            | [1, 32]                                                               \n",
      "39  | model.static_selector.variable_networks.0.layer_norm | LayerNorm                       | 64     | train | [1, 32]                                                                                            | [1, 32]                                                               \n",
      "40  | model.static_selector.variable_networks.1            | GatedResidualNetwork            | 4.3 K  | train | [1, 32]                                                                                            | [1, 32]                                                               \n",
      "41  | model.static_selector.variable_networks.1.mlp        | Sequential                      | 4.2 K  | train | [1, 32]                                                                                            | [1, 32]                                                               \n",
      "42  | model.static_selector.variable_networks.1.mlp.0      | Linear                          | 1.1 K  | train | [1, 32]                                                                                            | [1, 32]                                                               \n",
      "43  | model.static_selector.variable_networks.1.mlp.1      | ELU                             | 0      | train | [1, 32]                                                                                            | [1, 32]                                                               \n",
      "44  | model.static_selector.variable_networks.1.mlp.2      | Linear                          | 1.1 K  | train | [1, 32]                                                                                            | [1, 32]                                                               \n",
      "45  | model.static_selector.variable_networks.1.mlp.3      | Dropout                         | 0      | train | [1, 32]                                                                                            | [1, 32]                                                               \n",
      "46  | model.static_selector.variable_networks.1.mlp.4      | Linear                          | 2.1 K  | train | [1, 32]                                                                                            | [1, 64]                                                               \n",
      "47  | model.static_selector.variable_networks.1.mlp.5      | GatedLinearUnit                 | 0      | train | [1, 64]                                                                                            | [1, 32]                                                               \n",
      "48  | model.static_selector.variable_networks.1.layer_norm | LayerNorm                       | 64     | train | [1, 32]                                                                                            | [1, 32]                                                               \n",
      "49  | model.ctx_selector                                   | VariableSelectionNetwork        | 35.6 K | train | [[[1, 168, 32], [1, 168, 32], [1, 168, 32], [1, 168, 32], [1, 168, 32], [1, 168, 32]], [1, 1, 32]] | [[1, 168, 32], [1, 168, 1, 6]]                                        \n",
      "50  | model.ctx_selector.weight_network                    | GatedResidualNetwork            | 9.8 K  | train | [[1, 168, 192], [1, 168, 32]]                                                                      | [1, 168, 6]                                                           \n",
      "51  | model.ctx_selector.weight_network.skip_proj          | Linear                          | 1.2 K  | train | [1, 168, 192]                                                                                      | [1, 168, 6]                                                           \n",
      "52  | model.ctx_selector.weight_network.mlp                | Sequential                      | 8.7 K  | train | [1, 168, 224]                                                                                      | [1, 168, 6]                                                           \n",
      "53  | model.ctx_selector.weight_network.mlp.0              | Linear                          | 7.2 K  | train | [1, 168, 224]                                                                                      | [1, 168, 32]                                                          \n",
      "54  | model.ctx_selector.weight_network.mlp.1              | ELU                             | 0      | train | [1, 168, 32]                                                                                       | [1, 168, 32]                                                          \n",
      "55  | model.ctx_selector.weight_network.mlp.2              | Linear                          | 1.1 K  | train | [1, 168, 32]                                                                                       | [1, 168, 32]                                                          \n",
      "56  | model.ctx_selector.weight_network.mlp.3              | Dropout                         | 0      | train | [1, 168, 32]                                                                                       | [1, 168, 32]                                                          \n",
      "57  | model.ctx_selector.weight_network.mlp.4              | Linear                          | 396    | train | [1, 168, 32]                                                                                       | [1, 168, 12]                                                          \n",
      "58  | model.ctx_selector.weight_network.mlp.5              | GatedLinearUnit                 | 0      | train | [1, 168, 12]                                                                                       | [1, 168, 6]                                                           \n",
      "59  | model.ctx_selector.weight_network.layer_norm         | LayerNorm                       | 12     | train | [1, 168, 6]                                                                                        | [1, 168, 6]                                                           \n",
      "60  | model.ctx_selector.variable_networks                 | ModuleList                      | 25.7 K | train | ?                                                                                                  | ?                                                                     \n",
      "61  | model.ctx_selector.variable_networks.0               | GatedResidualNetwork            | 4.3 K  | train | [1, 168, 32]                                                                                       | [1, 168, 32]                                                          \n",
      "62  | model.ctx_selector.variable_networks.0.mlp           | Sequential                      | 4.2 K  | train | [1, 168, 32]                                                                                       | [1, 168, 32]                                                          \n",
      "63  | model.ctx_selector.variable_networks.0.mlp.0         | Linear                          | 1.1 K  | train | [1, 168, 32]                                                                                       | [1, 168, 32]                                                          \n",
      "64  | model.ctx_selector.variable_networks.0.mlp.1         | ELU                             | 0      | train | [1, 168, 32]                                                                                       | [1, 168, 32]                                                          \n",
      "65  | model.ctx_selector.variable_networks.0.mlp.2         | Linear                          | 1.1 K  | train | [1, 168, 32]                                                                                       | [1, 168, 32]                                                          \n",
      "66  | model.ctx_selector.variable_networks.0.mlp.3         | Dropout                         | 0      | train | [1, 168, 32]                                                                                       | [1, 168, 32]                                                          \n",
      "67  | model.ctx_selector.variable_networks.0.mlp.4         | Linear                          | 2.1 K  | train | [1, 168, 32]                                                                                       | [1, 168, 64]                                                          \n",
      "68  | model.ctx_selector.variable_networks.0.mlp.5         | GatedLinearUnit                 | 0      | train | [1, 168, 64]                                                                                       | [1, 168, 32]                                                          \n",
      "69  | model.ctx_selector.variable_networks.0.layer_norm    | LayerNorm                       | 64     | train | [1, 168, 32]                                                                                       | [1, 168, 32]                                                          \n",
      "70  | model.ctx_selector.variable_networks.1               | GatedResidualNetwork            | 4.3 K  | train | [1, 168, 32]                                                                                       | [1, 168, 32]                                                          \n",
      "71  | model.ctx_selector.variable_networks.1.mlp           | Sequential                      | 4.2 K  | train | [1, 168, 32]                                                                                       | [1, 168, 32]                                                          \n",
      "72  | model.ctx_selector.variable_networks.1.mlp.0         | Linear                          | 1.1 K  | train | [1, 168, 32]                                                                                       | [1, 168, 32]                                                          \n",
      "73  | model.ctx_selector.variable_networks.1.mlp.1         | ELU                             | 0      | train | [1, 168, 32]                                                                                       | [1, 168, 32]                                                          \n",
      "74  | model.ctx_selector.variable_networks.1.mlp.2         | Linear                          | 1.1 K  | train | [1, 168, 32]                                                                                       | [1, 168, 32]                                                          \n",
      "75  | model.ctx_selector.variable_networks.1.mlp.3         | Dropout                         | 0      | train | [1, 168, 32]                                                                                       | [1, 168, 32]                                                          \n",
      "76  | model.ctx_selector.variable_networks.1.mlp.4         | Linear                          | 2.1 K  | train | [1, 168, 32]                                                                                       | [1, 168, 64]                                                          \n",
      "77  | model.ctx_selector.variable_networks.1.mlp.5         | GatedLinearUnit                 | 0      | train | [1, 168, 64]                                                                                       | [1, 168, 32]                                                          \n",
      "78  | model.ctx_selector.variable_networks.1.layer_norm    | LayerNorm                       | 64     | train | [1, 168, 32]                                                                                       | [1, 168, 32]                                                          \n",
      "79  | model.ctx_selector.variable_networks.2               | GatedResidualNetwork            | 4.3 K  | train | [1, 168, 32]                                                                                       | [1, 168, 32]                                                          \n",
      "80  | model.ctx_selector.variable_networks.2.mlp           | Sequential                      | 4.2 K  | train | [1, 168, 32]                                                                                       | [1, 168, 32]                                                          \n",
      "81  | model.ctx_selector.variable_networks.2.mlp.0         | Linear                          | 1.1 K  | train | [1, 168, 32]                                                                                       | [1, 168, 32]                                                          \n",
      "82  | model.ctx_selector.variable_networks.2.mlp.1         | ELU                             | 0      | train | [1, 168, 32]                                                                                       | [1, 168, 32]                                                          \n",
      "83  | model.ctx_selector.variable_networks.2.mlp.2         | Linear                          | 1.1 K  | train | [1, 168, 32]                                                                                       | [1, 168, 32]                                                          \n",
      "84  | model.ctx_selector.variable_networks.2.mlp.3         | Dropout                         | 0      | train | [1, 168, 32]                                                                                       | [1, 168, 32]                                                          \n",
      "85  | model.ctx_selector.variable_networks.2.mlp.4         | Linear                          | 2.1 K  | train | [1, 168, 32]                                                                                       | [1, 168, 64]                                                          \n",
      "86  | model.ctx_selector.variable_networks.2.mlp.5         | GatedLinearUnit                 | 0      | train | [1, 168, 64]                                                                                       | [1, 168, 32]                                                          \n",
      "87  | model.ctx_selector.variable_networks.2.layer_norm    | LayerNorm                       | 64     | train | [1, 168, 32]                                                                                       | [1, 168, 32]                                                          \n",
      "88  | model.ctx_selector.variable_networks.3               | GatedResidualNetwork            | 4.3 K  | train | [1, 168, 32]                                                                                       | [1, 168, 32]                                                          \n",
      "89  | model.ctx_selector.variable_networks.3.mlp           | Sequential                      | 4.2 K  | train | [1, 168, 32]                                                                                       | [1, 168, 32]                                                          \n",
      "90  | model.ctx_selector.variable_networks.3.mlp.0         | Linear                          | 1.1 K  | train | [1, 168, 32]                                                                                       | [1, 168, 32]                                                          \n",
      "91  | model.ctx_selector.variable_networks.3.mlp.1         | ELU                             | 0      | train | [1, 168, 32]                                                                                       | [1, 168, 32]                                                          \n",
      "92  | model.ctx_selector.variable_networks.3.mlp.2         | Linear                          | 1.1 K  | train | [1, 168, 32]                                                                                       | [1, 168, 32]                                                          \n",
      "93  | model.ctx_selector.variable_networks.3.mlp.3         | Dropout                         | 0      | train | [1, 168, 32]                                                                                       | [1, 168, 32]                                                          \n",
      "94  | model.ctx_selector.variable_networks.3.mlp.4         | Linear                          | 2.1 K  | train | [1, 168, 32]                                                                                       | [1, 168, 64]                                                          \n",
      "95  | model.ctx_selector.variable_networks.3.mlp.5         | GatedLinearUnit                 | 0      | train | [1, 168, 64]                                                                                       | [1, 168, 32]                                                          \n",
      "96  | model.ctx_selector.variable_networks.3.layer_norm    | LayerNorm                       | 64     | train | [1, 168, 32]                                                                                       | [1, 168, 32]                                                          \n",
      "97  | model.ctx_selector.variable_networks.4               | GatedResidualNetwork            | 4.3 K  | train | [1, 168, 32]                                                                                       | [1, 168, 32]                                                          \n",
      "98  | model.ctx_selector.variable_networks.4.mlp           | Sequential                      | 4.2 K  | train | [1, 168, 32]                                                                                       | [1, 168, 32]                                                          \n",
      "99  | model.ctx_selector.variable_networks.4.mlp.0         | Linear                          | 1.1 K  | train | [1, 168, 32]                                                                                       | [1, 168, 32]                                                          \n",
      "100 | model.ctx_selector.variable_networks.4.mlp.1         | ELU                             | 0      | train | [1, 168, 32]                                                                                       | [1, 168, 32]                                                          \n",
      "101 | model.ctx_selector.variable_networks.4.mlp.2         | Linear                          | 1.1 K  | train | [1, 168, 32]                                                                                       | [1, 168, 32]                                                          \n",
      "102 | model.ctx_selector.variable_networks.4.mlp.3         | Dropout                         | 0      | train | [1, 168, 32]                                                                                       | [1, 168, 32]                                                          \n",
      "103 | model.ctx_selector.variable_networks.4.mlp.4         | Linear                          | 2.1 K  | train | [1, 168, 32]                                                                                       | [1, 168, 64]                                                          \n",
      "104 | model.ctx_selector.variable_networks.4.mlp.5         | GatedLinearUnit                 | 0      | train | [1, 168, 64]                                                                                       | [1, 168, 32]                                                          \n",
      "105 | model.ctx_selector.variable_networks.4.layer_norm    | LayerNorm                       | 64     | train | [1, 168, 32]                                                                                       | [1, 168, 32]                                                          \n",
      "106 | model.ctx_selector.variable_networks.5               | GatedResidualNetwork            | 4.3 K  | train | [1, 168, 32]                                                                                       | [1, 168, 32]                                                          \n",
      "107 | model.ctx_selector.variable_networks.5.mlp           | Sequential                      | 4.2 K  | train | [1, 168, 32]                                                                                       | [1, 168, 32]                                                          \n",
      "108 | model.ctx_selector.variable_networks.5.mlp.0         | Linear                          | 1.1 K  | train | [1, 168, 32]                                                                                       | [1, 168, 32]                                                          \n",
      "109 | model.ctx_selector.variable_networks.5.mlp.1         | ELU                             | 0      | train | [1, 168, 32]                                                                                       | [1, 168, 32]                                                          \n",
      "110 | model.ctx_selector.variable_networks.5.mlp.2         | Linear                          | 1.1 K  | train | [1, 168, 32]                                                                                       | [1, 168, 32]                                                          \n",
      "111 | model.ctx_selector.variable_networks.5.mlp.3         | Dropout                         | 0      | train | [1, 168, 32]                                                                                       | [1, 168, 32]                                                          \n",
      "112 | model.ctx_selector.variable_networks.5.mlp.4         | Linear                          | 2.1 K  | train | [1, 168, 32]                                                                                       | [1, 168, 64]                                                          \n",
      "113 | model.ctx_selector.variable_networks.5.mlp.5         | GatedLinearUnit                 | 0      | train | [1, 168, 64]                                                                                       | [1, 168, 32]                                                          \n",
      "114 | model.ctx_selector.variable_networks.5.layer_norm    | LayerNorm                       | 64     | train | [1, 168, 32]                                                                                       | [1, 168, 32]                                                          \n",
      "115 | model.tgt_selector                                   | VariableSelectionNetwork        | 29.8 K | train | [[[1, 24, 32], [1, 24, 32], [1, 24, 32], [1, 24, 32], [1, 24, 32]], [1, 1, 32]]                    | [[1, 24, 32], [1, 24, 1, 5]]                                          \n",
      "116 | model.tgt_selector.weight_network                    | GatedResidualNetwork            | 8.4 K  | train | [[1, 24, 160], [1, 24, 32]]                                                                        | [1, 24, 5]                                                            \n",
      "117 | model.tgt_selector.weight_network.skip_proj          | Linear                          | 805    | train | [1, 24, 160]                                                                                       | [1, 24, 5]                                                            \n",
      "118 | model.tgt_selector.weight_network.mlp                | Sequential                      | 7.6 K  | train | [1, 24, 192]                                                                                       | [1, 24, 5]                                                            \n",
      "119 | model.tgt_selector.weight_network.mlp.0              | Linear                          | 6.2 K  | train | [1, 24, 192]                                                                                       | [1, 24, 32]                                                           \n",
      "120 | model.tgt_selector.weight_network.mlp.1              | ELU                             | 0      | train | [1, 24, 32]                                                                                        | [1, 24, 32]                                                           \n",
      "121 | model.tgt_selector.weight_network.mlp.2              | Linear                          | 1.1 K  | train | [1, 24, 32]                                                                                        | [1, 24, 32]                                                           \n",
      "122 | model.tgt_selector.weight_network.mlp.3              | Dropout                         | 0      | train | [1, 24, 32]                                                                                        | [1, 24, 32]                                                           \n",
      "123 | model.tgt_selector.weight_network.mlp.4              | Linear                          | 330    | train | [1, 24, 32]                                                                                        | [1, 24, 10]                                                           \n",
      "124 | model.tgt_selector.weight_network.mlp.5              | GatedLinearUnit                 | 0      | train | [1, 24, 10]                                                                                        | [1, 24, 5]                                                            \n",
      "125 | model.tgt_selector.weight_network.layer_norm         | LayerNorm                       | 10     | train | [1, 24, 5]                                                                                         | [1, 24, 5]                                                            \n",
      "126 | model.tgt_selector.variable_networks                 | ModuleList                      | 21.4 K | train | ?                                                                                                  | ?                                                                     \n",
      "127 | model.tgt_selector.variable_networks.0               | GatedResidualNetwork            | 4.3 K  | train | [1, 24, 32]                                                                                        | [1, 24, 32]                                                           \n",
      "128 | model.tgt_selector.variable_networks.0.mlp           | Sequential                      | 4.2 K  | train | [1, 24, 32]                                                                                        | [1, 24, 32]                                                           \n",
      "129 | model.tgt_selector.variable_networks.0.mlp.0         | Linear                          | 1.1 K  | train | [1, 24, 32]                                                                                        | [1, 24, 32]                                                           \n",
      "130 | model.tgt_selector.variable_networks.0.mlp.1         | ELU                             | 0      | train | [1, 24, 32]                                                                                        | [1, 24, 32]                                                           \n",
      "131 | model.tgt_selector.variable_networks.0.mlp.2         | Linear                          | 1.1 K  | train | [1, 24, 32]                                                                                        | [1, 24, 32]                                                           \n",
      "132 | model.tgt_selector.variable_networks.0.mlp.3         | Dropout                         | 0      | train | [1, 24, 32]                                                                                        | [1, 24, 32]                                                           \n",
      "133 | model.tgt_selector.variable_networks.0.mlp.4         | Linear                          | 2.1 K  | train | [1, 24, 32]                                                                                        | [1, 24, 64]                                                           \n",
      "134 | model.tgt_selector.variable_networks.0.mlp.5         | GatedLinearUnit                 | 0      | train | [1, 24, 64]                                                                                        | [1, 24, 32]                                                           \n",
      "135 | model.tgt_selector.variable_networks.0.layer_norm    | LayerNorm                       | 64     | train | [1, 24, 32]                                                                                        | [1, 24, 32]                                                           \n",
      "136 | model.tgt_selector.variable_networks.1               | GatedResidualNetwork            | 4.3 K  | train | [1, 24, 32]                                                                                        | [1, 24, 32]                                                           \n",
      "137 | model.tgt_selector.variable_networks.1.mlp           | Sequential                      | 4.2 K  | train | [1, 24, 32]                                                                                        | [1, 24, 32]                                                           \n",
      "138 | model.tgt_selector.variable_networks.1.mlp.0         | Linear                          | 1.1 K  | train | [1, 24, 32]                                                                                        | [1, 24, 32]                                                           \n",
      "139 | model.tgt_selector.variable_networks.1.mlp.1         | ELU                             | 0      | train | [1, 24, 32]                                                                                        | [1, 24, 32]                                                           \n",
      "140 | model.tgt_selector.variable_networks.1.mlp.2         | Linear                          | 1.1 K  | train | [1, 24, 32]                                                                                        | [1, 24, 32]                                                           \n",
      "141 | model.tgt_selector.variable_networks.1.mlp.3         | Dropout                         | 0      | train | [1, 24, 32]                                                                                        | [1, 24, 32]                                                           \n",
      "142 | model.tgt_selector.variable_networks.1.mlp.4         | Linear                          | 2.1 K  | train | [1, 24, 32]                                                                                        | [1, 24, 64]                                                           \n",
      "143 | model.tgt_selector.variable_networks.1.mlp.5         | GatedLinearUnit                 | 0      | train | [1, 24, 64]                                                                                        | [1, 24, 32]                                                           \n",
      "144 | model.tgt_selector.variable_networks.1.layer_norm    | LayerNorm                       | 64     | train | [1, 24, 32]                                                                                        | [1, 24, 32]                                                           \n",
      "145 | model.tgt_selector.variable_networks.2               | GatedResidualNetwork            | 4.3 K  | train | [1, 24, 32]                                                                                        | [1, 24, 32]                                                           \n",
      "146 | model.tgt_selector.variable_networks.2.mlp           | Sequential                      | 4.2 K  | train | [1, 24, 32]                                                                                        | [1, 24, 32]                                                           \n",
      "147 | model.tgt_selector.variable_networks.2.mlp.0         | Linear                          | 1.1 K  | train | [1, 24, 32]                                                                                        | [1, 24, 32]                                                           \n",
      "148 | model.tgt_selector.variable_networks.2.mlp.1         | ELU                             | 0      | train | [1, 24, 32]                                                                                        | [1, 24, 32]                                                           \n",
      "149 | model.tgt_selector.variable_networks.2.mlp.2         | Linear                          | 1.1 K  | train | [1, 24, 32]                                                                                        | [1, 24, 32]                                                           \n",
      "150 | model.tgt_selector.variable_networks.2.mlp.3         | Dropout                         | 0      | train | [1, 24, 32]                                                                                        | [1, 24, 32]                                                           \n",
      "151 | model.tgt_selector.variable_networks.2.mlp.4         | Linear                          | 2.1 K  | train | [1, 24, 32]                                                                                        | [1, 24, 64]                                                           \n",
      "152 | model.tgt_selector.variable_networks.2.mlp.5         | GatedLinearUnit                 | 0      | train | [1, 24, 64]                                                                                        | [1, 24, 32]                                                           \n",
      "153 | model.tgt_selector.variable_networks.2.layer_norm    | LayerNorm                       | 64     | train | [1, 24, 32]                                                                                        | [1, 24, 32]                                                           \n",
      "154 | model.tgt_selector.variable_networks.3               | GatedResidualNetwork            | 4.3 K  | train | [1, 24, 32]                                                                                        | [1, 24, 32]                                                           \n",
      "155 | model.tgt_selector.variable_networks.3.mlp           | Sequential                      | 4.2 K  | train | [1, 24, 32]                                                                                        | [1, 24, 32]                                                           \n",
      "156 | model.tgt_selector.variable_networks.3.mlp.0         | Linear                          | 1.1 K  | train | [1, 24, 32]                                                                                        | [1, 24, 32]                                                           \n",
      "157 | model.tgt_selector.variable_networks.3.mlp.1         | ELU                             | 0      | train | [1, 24, 32]                                                                                        | [1, 24, 32]                                                           \n",
      "158 | model.tgt_selector.variable_networks.3.mlp.2         | Linear                          | 1.1 K  | train | [1, 24, 32]                                                                                        | [1, 24, 32]                                                           \n",
      "159 | model.tgt_selector.variable_networks.3.mlp.3         | Dropout                         | 0      | train | [1, 24, 32]                                                                                        | [1, 24, 32]                                                           \n",
      "160 | model.tgt_selector.variable_networks.3.mlp.4         | Linear                          | 2.1 K  | train | [1, 24, 32]                                                                                        | [1, 24, 64]                                                           \n",
      "161 | model.tgt_selector.variable_networks.3.mlp.5         | GatedLinearUnit                 | 0      | train | [1, 24, 64]                                                                                        | [1, 24, 32]                                                           \n",
      "162 | model.tgt_selector.variable_networks.3.layer_norm    | LayerNorm                       | 64     | train | [1, 24, 32]                                                                                        | [1, 24, 32]                                                           \n",
      "163 | model.tgt_selector.variable_networks.4               | GatedResidualNetwork            | 4.3 K  | train | [1, 24, 32]                                                                                        | [1, 24, 32]                                                           \n",
      "164 | model.tgt_selector.variable_networks.4.mlp           | Sequential                      | 4.2 K  | train | [1, 24, 32]                                                                                        | [1, 24, 32]                                                           \n",
      "165 | model.tgt_selector.variable_networks.4.mlp.0         | Linear                          | 1.1 K  | train | [1, 24, 32]                                                                                        | [1, 24, 32]                                                           \n",
      "166 | model.tgt_selector.variable_networks.4.mlp.1         | ELU                             | 0      | train | [1, 24, 32]                                                                                        | [1, 24, 32]                                                           \n",
      "167 | model.tgt_selector.variable_networks.4.mlp.2         | Linear                          | 1.1 K  | train | [1, 24, 32]                                                                                        | [1, 24, 32]                                                           \n",
      "168 | model.tgt_selector.variable_networks.4.mlp.3         | Dropout                         | 0      | train | [1, 24, 32]                                                                                        | [1, 24, 32]                                                           \n",
      "169 | model.tgt_selector.variable_networks.4.mlp.4         | Linear                          | 2.1 K  | train | [1, 24, 32]                                                                                        | [1, 24, 64]                                                           \n",
      "170 | model.tgt_selector.variable_networks.4.mlp.5         | GatedLinearUnit                 | 0      | train | [1, 24, 64]                                                                                        | [1, 24, 32]                                                           \n",
      "171 | model.tgt_selector.variable_networks.4.layer_norm    | LayerNorm                       | 64     | train | [1, 24, 32]                                                                                        | [1, 24, 32]                                                           \n",
      "172 | model.selection                                      | GatedResidualNetwork            | 4.3 K  | train | [1, 32]                                                                                            | [1, 32]                                                               \n",
      "173 | model.selection.mlp                                  | Sequential                      | 4.2 K  | train | [1, 32]                                                                                            | [1, 32]                                                               \n",
      "174 | model.selection.mlp.0                                | Linear                          | 1.1 K  | train | [1, 32]                                                                                            | [1, 32]                                                               \n",
      "175 | model.selection.mlp.1                                | ELU                             | 0      | train | [1, 32]                                                                                            | [1, 32]                                                               \n",
      "176 | model.selection.mlp.2                                | Linear                          | 1.1 K  | train | [1, 32]                                                                                            | [1, 32]                                                               \n",
      "177 | model.selection.mlp.3                                | Dropout                         | 0      | train | [1, 32]                                                                                            | [1, 32]                                                               \n",
      "178 | model.selection.mlp.4                                | Linear                          | 2.1 K  | train | [1, 32]                                                                                            | [1, 64]                                                               \n",
      "179 | model.selection.mlp.5                                | GatedLinearUnit                 | 0      | train | [1, 64]                                                                                            | [1, 32]                                                               \n",
      "180 | model.selection.layer_norm                           | LayerNorm                       | 64     | train | [1, 32]                                                                                            | [1, 32]                                                               \n",
      "181 | model.enrichment                                     | GatedResidualNetwork            | 4.3 K  | train | [1, 32]                                                                                            | [1, 32]                                                               \n",
      "182 | model.enrichment.mlp                                 | Sequential                      | 4.2 K  | train | [1, 32]                                                                                            | [1, 32]                                                               \n",
      "183 | model.enrichment.mlp.0                               | Linear                          | 1.1 K  | train | [1, 32]                                                                                            | [1, 32]                                                               \n",
      "184 | model.enrichment.mlp.1                               | ELU                             | 0      | train | [1, 32]                                                                                            | [1, 32]                                                               \n",
      "185 | model.enrichment.mlp.2                               | Linear                          | 1.1 K  | train | [1, 32]                                                                                            | [1, 32]                                                               \n",
      "186 | model.enrichment.mlp.3                               | Dropout                         | 0      | train | [1, 32]                                                                                            | [1, 32]                                                               \n",
      "187 | model.enrichment.mlp.4                               | Linear                          | 2.1 K  | train | [1, 32]                                                                                            | [1, 64]                                                               \n",
      "188 | model.enrichment.mlp.5                               | GatedLinearUnit                 | 0      | train | [1, 64]                                                                                            | [1, 32]                                                               \n",
      "189 | model.enrichment.layer_norm                          | LayerNorm                       | 64     | train | [1, 32]                                                                                            | [1, 32]                                                               \n",
      "190 | model.state_h                                        | GatedResidualNetwork            | 18.3 K | train | [1, 32]                                                                                            | [1, 160]                                                              \n",
      "191 | model.state_h.skip_proj                              | Linear                          | 5.3 K  | train | [1, 32]                                                                                            | [1, 160]                                                              \n",
      "192 | model.state_h.mlp                                    | Sequential                      | 12.7 K | train | [1, 32]                                                                                            | [1, 160]                                                              \n",
      "193 | model.state_h.mlp.0                                  | Linear                          | 1.1 K  | train | [1, 32]                                                                                            | [1, 32]                                                               \n",
      "194 | model.state_h.mlp.1                                  | ELU                             | 0      | train | [1, 32]                                                                                            | [1, 32]                                                               \n",
      "195 | model.state_h.mlp.2                                  | Linear                          | 1.1 K  | train | [1, 32]                                                                                            | [1, 32]                                                               \n",
      "196 | model.state_h.mlp.3                                  | Dropout                         | 0      | train | [1, 32]                                                                                            | [1, 32]                                                               \n",
      "197 | model.state_h.mlp.4                                  | Linear                          | 10.6 K | train | [1, 32]                                                                                            | [1, 320]                                                              \n",
      "198 | model.state_h.mlp.5                                  | GatedLinearUnit                 | 0      | train | [1, 320]                                                                                           | [1, 160]                                                              \n",
      "199 | model.state_h.layer_norm                             | LayerNorm                       | 320    | train | [1, 160]                                                                                           | [1, 160]                                                              \n",
      "200 | model.state_c                                        | GatedResidualNetwork            | 18.3 K | train | [1, 32]                                                                                            | [1, 160]                                                              \n",
      "201 | model.state_c.skip_proj                              | Linear                          | 5.3 K  | train | [1, 32]                                                                                            | [1, 160]                                                              \n",
      "202 | model.state_c.mlp                                    | Sequential                      | 12.7 K | train | [1, 32]                                                                                            | [1, 160]                                                              \n",
      "203 | model.state_c.mlp.0                                  | Linear                          | 1.1 K  | train | [1, 32]                                                                                            | [1, 32]                                                               \n",
      "204 | model.state_c.mlp.1                                  | ELU                             | 0      | train | [1, 32]                                                                                            | [1, 32]                                                               \n",
      "205 | model.state_c.mlp.2                                  | Linear                          | 1.1 K  | train | [1, 32]                                                                                            | [1, 32]                                                               \n",
      "206 | model.state_c.mlp.3                                  | Dropout                         | 0      | train | [1, 32]                                                                                            | [1, 32]                                                               \n",
      "207 | model.state_c.mlp.4                                  | Linear                          | 10.6 K | train | [1, 32]                                                                                            | [1, 320]                                                              \n",
      "208 | model.state_c.mlp.5                                  | GatedLinearUnit                 | 0      | train | [1, 320]                                                                                           | [1, 160]                                                              \n",
      "209 | model.state_c.layer_norm                             | LayerNorm                       | 320    | train | [1, 160]                                                                                           | [1, 160]                                                              \n",
      "210 | model.temporal_encoder                               | TemporalFusionEncoder           | 305 K  | train | [[1, 168, 32], [1, 24, 32], [[1, 1, 160], [1, 1, 160]]]                                            | [1, 192, 160]                                                         \n",
      "211 | model.temporal_encoder.encoder_lstm                  | LSTM                            | 124 K  | train | [[1, 168, 32], [[1, 1, 160], [1, 1, 160]]]                                                         | [[1, 168, 160], [[1, 1, 160], [1, 1, 160]]]                           \n",
      "212 | model.temporal_encoder.decoder_lstm                  | LSTM                            | 124 K  | train | [[1, 24, 32], [[1, 1, 160], [1, 1, 160]]]                                                          | [[1, 24, 160], [[1, 1, 160], [1, 1, 160]]]                            \n",
      "213 | model.temporal_encoder.gate                          | Sequential                      | 51.5 K | train | [1, 192, 160]                                                                                      | [1, 192, 160]                                                         \n",
      "214 | model.temporal_encoder.gate.0                        | Linear                          | 51.5 K | train | [1, 192, 160]                                                                                      | [1, 192, 320]                                                         \n",
      "215 | model.temporal_encoder.gate.1                        | GLU                             | 0      | train | [1, 192, 320]                                                                                      | [1, 192, 160]                                                         \n",
      "216 | model.temporal_encoder.skip_proj                     | Linear                          | 5.3 K  | train | [1, 192, 32]                                                                                       | [1, 192, 160]                                                         \n",
      "217 | model.temporal_encoder.lnorm                         | LayerNorm                       | 320    | train | [1, 192, 160]                                                                                      | [1, 192, 160]                                                         \n",
      "218 | model.temporal_decoder                               | TemporalFusionDecoder           | 418 K  | train | [[1, 192, 160], [1, 1, 32], [1, 168]]                                                              | [1, 24, 160]                                                          \n",
      "219 | model.temporal_decoder.enrich                        | GatedResidualNetwork            | 108 K  | train | [[1, 192, 160], [1, 192, 32]]                                                                      | [1, 192, 160]                                                         \n",
      "220 | model.temporal_decoder.enrich.mlp                    | Sequential                      | 108 K  | train | [1, 192, 192]                                                                                      | [1, 192, 160]                                                         \n",
      "221 | model.temporal_decoder.enrich.mlp.0                  | Linear                          | 30.9 K | train | [1, 192, 192]                                                                                      | [1, 192, 160]                                                         \n",
      "222 | model.temporal_decoder.enrich.mlp.1                  | ELU                             | 0      | train | [1, 192, 160]                                                                                      | [1, 192, 160]                                                         \n",
      "223 | model.temporal_decoder.enrich.mlp.2                  | Linear                          | 25.8 K | train | [1, 192, 160]                                                                                      | [1, 192, 160]                                                         \n",
      "224 | model.temporal_decoder.enrich.mlp.3                  | Dropout                         | 0      | train | [1, 192, 160]                                                                                      | [1, 192, 160]                                                         \n",
      "225 | model.temporal_decoder.enrich.mlp.4                  | Linear                          | 51.5 K | train | [1, 192, 160]                                                                                      | [1, 192, 320]                                                         \n",
      "226 | model.temporal_decoder.enrich.mlp.5                  | GatedLinearUnit                 | 0      | train | [1, 192, 320]                                                                                      | [1, 192, 160]                                                         \n",
      "227 | model.temporal_decoder.enrich.layer_norm             | LayerNorm                       | 320    | train | [1, 192, 160]                                                                                      | [1, 192, 160]                                                         \n",
      "228 | model.temporal_decoder.attention                     | MultiheadAttention              | 103 K  | train | [[1, 24, 160], [1, 192, 160], [1, 192, 160], [1, 192]]                                             | [[1, 24, 160], [1, 24, 192]]                                          \n",
      "229 | model.temporal_decoder.attention.out_proj            | NonDynamicallyQuantizableLinear | 25.8 K | train | ?                                                                                                  | ?                                                                     \n",
      "230 | model.temporal_decoder.att_net                       | Sequential                      | 51.5 K | train | [1, 24, 160]                                                                                       | [1, 24, 160]                                                          \n",
      "231 | model.temporal_decoder.att_net.0                     | Linear                          | 51.5 K | train | [1, 24, 160]                                                                                       | [1, 24, 320]                                                          \n",
      "232 | model.temporal_decoder.att_net.1                     | GLU                             | 0      | train | [1, 24, 320]                                                                                       | [1, 24, 160]                                                          \n",
      "233 | model.temporal_decoder.att_lnorm                     | LayerNorm                       | 320    | train | [1, 24, 160]                                                                                       | [1, 24, 160]                                                          \n",
      "234 | model.temporal_decoder.ff_net                        | Sequential                      | 154 K  | train | [1, 24, 160]                                                                                       | [1, 24, 160]                                                          \n",
      "235 | model.temporal_decoder.ff_net.0                      | GatedResidualNetwork            | 103 K  | train | [1, 24, 160]                                                                                       | [1, 24, 160]                                                          \n",
      "236 | model.temporal_decoder.ff_net.0.mlp                  | Sequential                      | 103 K  | train | [1, 24, 160]                                                                                       | [1, 24, 160]                                                          \n",
      "237 | model.temporal_decoder.ff_net.0.mlp.0                | Linear                          | 25.8 K | train | [1, 24, 160]                                                                                       | [1, 24, 160]                                                          \n",
      "238 | model.temporal_decoder.ff_net.0.mlp.1                | ELU                             | 0      | train | [1, 24, 160]                                                                                       | [1, 24, 160]                                                          \n",
      "239 | model.temporal_decoder.ff_net.0.mlp.2                | Linear                          | 25.8 K | train | [1, 24, 160]                                                                                       | [1, 24, 160]                                                          \n",
      "240 | model.temporal_decoder.ff_net.0.mlp.3                | Dropout                         | 0      | train | [1, 24, 160]                                                                                       | [1, 24, 160]                                                          \n",
      "241 | model.temporal_decoder.ff_net.0.mlp.4                | Linear                          | 51.5 K | train | [1, 24, 160]                                                                                       | [1, 24, 320]                                                          \n",
      "242 | model.temporal_decoder.ff_net.0.mlp.5                | GatedLinearUnit                 | 0      | train | [1, 24, 320]                                                                                       | [1, 24, 160]                                                          \n",
      "243 | model.temporal_decoder.ff_net.0.layer_norm           | LayerNorm                       | 320    | train | [1, 24, 160]                                                                                       | [1, 24, 160]                                                          \n",
      "244 | model.temporal_decoder.ff_net.1                      | Linear                          | 51.5 K | train | [1, 24, 160]                                                                                       | [1, 24, 320]                                                          \n",
      "245 | model.temporal_decoder.ff_net.2                      | GLU                             | 0      | train | [1, 24, 320]                                                                                       | [1, 24, 160]                                                          \n",
      "246 | model.temporal_decoder.ff_lnorm                      | LayerNorm                       | 320    | train | [1, 24, 160]                                                                                       | [1, 24, 160]                                                          \n",
      "-------------------------------------------------------------------------------------------------------------------------------------------------------------------------------------------------------------------------------------------------------------------------------------------------\n",
      "859 K     Trainable params\n",
      "0         Non-trainable params\n",
      "859 K     Total params\n",
      "3.437     Total estimated model params size (MB)\n",
      "247       Modules in train mode\n",
      "0         Modules in eval mode\n"
     ]
    },
    {
     "name": "stderr",
     "output_type": "stream",
     "text": [
      "/home/akm9999/.local/lib/python3.9/site-packages/lightning/fabric/plugins/environments/slurm.py:204: The `srun` command is available on your system but is not used. HINT: If your intention is to run Lightning on SLURM, prepend your python command with `srun` like so: srun python /share/apps/pyenv/py3.9/lib/python3.9/site-packages/ ...\n",
      "2025-05-09 22:57:18.188760: I tensorflow/core/util/port.cc:153] oneDNN custom operations are on. You may see slightly different numerical results due to floating-point round-off errors from different computation orders. To turn them off, set the environment variable `TF_ENABLE_ONEDNN_OPTS=0`.\n",
      "2025-05-09 22:57:18.211170: E external/local_xla/xla/stream_executor/cuda/cuda_fft.cc:467] Unable to register cuFFT factory: Attempting to register factory for plugin cuFFT when one has already been registered\n",
      "WARNING: All log messages before absl::InitializeLog() is called are written to STDERR\n",
      "E0000 00:00:1746845838.240301    5938 cuda_dnn.cc:8579] Unable to register cuDNN factory: Attempting to register factory for plugin cuDNN when one has already been registered\n",
      "E0000 00:00:1746845838.248939    5938 cuda_blas.cc:1407] Unable to register cuBLAS factory: Attempting to register factory for plugin cuBLAS when one has already been registered\n",
      "W0000 00:00:1746845838.271110    5938 computation_placer.cc:177] computation placer already registered. Please check linkage and avoid linking the same target more than once.\n",
      "W0000 00:00:1746845838.271134    5938 computation_placer.cc:177] computation placer already registered. Please check linkage and avoid linking the same target more than once.\n",
      "W0000 00:00:1746845838.271136    5938 computation_placer.cc:177] computation placer already registered. Please check linkage and avoid linking the same target more than once.\n",
      "W0000 00:00:1746845838.271138    5938 computation_placer.cc:177] computation placer already registered. Please check linkage and avoid linking the same target more than once.\n",
      "2025-05-09 22:57:18.277686: I tensorflow/core/platform/cpu_feature_guard.cc:210] This TensorFlow binary is optimized to use available CPU instructions in performance-critical operations.\n",
      "To enable the following instructions: AVX2 AVX512F AVX512_VNNI FMA, in other operations, rebuild TensorFlow with the appropriate compiler flags.\n"
     ]
    },
    {
     "data": {
      "application/vnd.jupyter.widget-view+json": {
       "model_id": "",
       "version_major": 2,
       "version_minor": 0
      },
      "text/plain": [
       "Sanity Checking: |          | 0/? [00:00<?, ?it/s]"
      ]
     },
     "metadata": {},
     "output_type": "display_data"
    },
    {
     "data": {
      "application/vnd.jupyter.widget-view+json": {
       "model_id": "2db6ea7e4c7047079b5874565605bbb6",
       "version_major": 2,
       "version_minor": 0
      },
      "text/plain": [
       "Training: |          | 0/? [00:00<?, ?it/s]"
      ]
     },
     "metadata": {},
     "output_type": "display_data"
    },
    {
     "data": {
      "application/vnd.jupyter.widget-view+json": {
       "model_id": "",
       "version_major": 2,
       "version_minor": 0
      },
      "text/plain": [
       "Validation: |          | 0/? [00:00<?, ?it/s]"
      ]
     },
     "metadata": {},
     "output_type": "display_data"
    },
    {
     "data": {
      "application/vnd.jupyter.widget-view+json": {
       "model_id": "",
       "version_major": 2,
       "version_minor": 0
      },
      "text/plain": [
       "Validation: |          | 0/? [00:00<?, ?it/s]"
      ]
     },
     "metadata": {},
     "output_type": "display_data"
    },
    {
     "data": {
      "application/vnd.jupyter.widget-view+json": {
       "model_id": "",
       "version_major": 2,
       "version_minor": 0
      },
      "text/plain": [
       "Validation: |          | 0/? [00:00<?, ?it/s]"
      ]
     },
     "metadata": {},
     "output_type": "display_data"
    },
    {
     "data": {
      "application/vnd.jupyter.widget-view+json": {
       "model_id": "",
       "version_major": 2,
       "version_minor": 0
      },
      "text/plain": [
       "Validation: |          | 0/? [00:00<?, ?it/s]"
      ]
     },
     "metadata": {},
     "output_type": "display_data"
    },
    {
     "data": {
      "application/vnd.jupyter.widget-view+json": {
       "model_id": "",
       "version_major": 2,
       "version_minor": 0
      },
      "text/plain": [
       "Validation: |          | 0/? [00:00<?, ?it/s]"
      ]
     },
     "metadata": {},
     "output_type": "display_data"
    },
    {
     "data": {
      "application/vnd.jupyter.widget-view+json": {
       "model_id": "",
       "version_major": 2,
       "version_minor": 0
      },
      "text/plain": [
       "Validation: |          | 0/? [00:00<?, ?it/s]"
      ]
     },
     "metadata": {},
     "output_type": "display_data"
    },
    {
     "data": {
      "application/vnd.jupyter.widget-view+json": {
       "model_id": "",
       "version_major": 2,
       "version_minor": 0
      },
      "text/plain": [
       "Validation: |          | 0/? [00:00<?, ?it/s]"
      ]
     },
     "metadata": {},
     "output_type": "display_data"
    },
    {
     "data": {
      "application/vnd.jupyter.widget-view+json": {
       "model_id": "",
       "version_major": 2,
       "version_minor": 0
      },
      "text/plain": [
       "Validation: |          | 0/? [00:00<?, ?it/s]"
      ]
     },
     "metadata": {},
     "output_type": "display_data"
    },
    {
     "data": {
      "application/vnd.jupyter.widget-view+json": {
       "model_id": "",
       "version_major": 2,
       "version_minor": 0
      },
      "text/plain": [
       "Validation: |          | 0/? [00:00<?, ?it/s]"
      ]
     },
     "metadata": {},
     "output_type": "display_data"
    },
    {
     "data": {
      "application/vnd.jupyter.widget-view+json": {
       "model_id": "",
       "version_major": 2,
       "version_minor": 0
      },
      "text/plain": [
       "Validation: |          | 0/? [00:00<?, ?it/s]"
      ]
     },
     "metadata": {},
     "output_type": "display_data"
    },
    {
     "name": "stdout",
     "output_type": "stream",
     "text": [
      "Training: 6332.731s, Peak GPU mem: 697.0 MB\n"
     ]
    }
   ],
   "source": [
    "module = estimator.create_lightning_module()\n",
    "# max_depth = −1 will show **all** submodules\n",
    "summary = ModelSummary(module, max_depth=-1)\n",
    "print(summary)\n",
    "\n",
    "# ── 3) Time & memory for training ──\n",
    "if torch.cuda.is_available():\n",
    "    torch.cuda.reset_peak_memory_stats()\n",
    "    torch.cuda.synchronize()\n",
    "t0 = time.time()\n",
    "predictor = estimator.train(\n",
    "    training_data=train_ds,\n",
    "    validation_data=val_ds\n",
    ")\n",
    "if torch.cuda.is_available():\n",
    "    torch.cuda.synchronize()\n",
    "    train_peak_mem = torch.cuda.max_memory_allocated() / (1024**2)\n",
    "train_time = time.time() - t0\n",
    "print(f\"Training: {train_time:.3f}s, Peak GPU mem: {train_peak_mem:.1f} MB\")\n",
    "\n",
    "\n"
   ]
  },
  {
   "cell_type": "code",
   "execution_count": 8,
   "metadata": {},
   "outputs": [
    {
     "name": "stdout",
     "output_type": "stream",
     "text": [
      "Inference: 56.056s, Peak GPU mem: 347.3 MB\n"
     ]
    }
   ],
   "source": [
    "# ── 2) AMP bfloat16 Inference ──\n",
    "if torch.cuda.is_available():\n",
    "    torch.cuda.reset_peak_memory_stats()\n",
    "    torch.cuda.synchronize()\n",
    "t1 = time.time()\n",
    "# (keeps your existing precision setting)\n",
    "f_it, ts_it = make_evaluation_predictions(\n",
    "    dataset=test_ds,\n",
    "    predictor=predictor,\n",
    "    num_samples=100,\n",
    ")\n",
    "forecasts = list(f_it)\n",
    "tss       = list(ts_it)\n",
    "if torch.cuda.is_available():\n",
    "    torch.cuda.synchronize()\n",
    "    inf_peak_mem = torch.cuda.max_memory_allocated() / (1024**2)\n",
    "inf_time = time.time() - t1\n",
    "print(f\"Inference: {inf_time:.3f}s, Peak GPU mem: {inf_peak_mem:.1f} MB\")\n"
   ]
  },
  {
   "cell_type": "code",
   "execution_count": null,
   "metadata": {},
   "outputs": [
    {
     "name": "stderr",
     "output_type": "stream",
     "text": [
      "Running evaluation: 47943it [02:30, 320.04it/s]"
     ]
    }
   ],
   "source": [
    " # ── 5) Time evaluation and return metric ──\n",
    "t2 = time.time()\n",
    "evaluator    = Evaluator(quantiles=[0.5], num_workers=0)\n",
    "agg_metrics, item_metrics = evaluator(tss, forecasts)\n",
    "eval_time = time.time() - t2\n",
    "print(f\"Evaluation time: {eval_time:.3f}s\")"
   ]
  },
  {
   "cell_type": "code",
   "execution_count": 22,
   "metadata": {},
   "outputs": [
    {
     "name": "stdout",
     "output_type": "stream",
     "text": [
      "RMSE: 0.42584426032829803\n",
      "MASE: 0.9304658545793703\n",
      "sMAPE: 0.44389953436930185\n"
     ]
    }
   ],
   "source": [
    "print(\"RMSE:\", agg_metrics[\"RMSE\"])\n",
    "print(\"MASE:\", agg_metrics[\"MASE\"])\n",
    "print(\"sMAPE:\", agg_metrics[\"sMAPE\"])"
   ]
  },
  {
   "cell_type": "code",
   "execution_count": 23,
   "metadata": {},
   "outputs": [
    {
     "name": "stdout",
     "output_type": "stream",
     "text": [
      "→ Forecast start_date: 2014-09-01 00:00\n",
      "→ Forecast quantiles: ['0.1', '0.5', '0.9']\n",
      "→ Median forecast length: 24\n"
     ]
    }
   ],
   "source": [
    "import pandas as pd\n",
    "\n",
    "# 1) Grab the first test entry & its forecast\n",
    "test_entry     = next(iter(test_ds))\n",
    "forecast_entry = forecasts[0]\n",
    "\n",
    "# 2) Forecast diagnostics\n",
    "print(\"→ Forecast start_date:\", forecast_entry.start_date)\n",
    "print(\"→ Forecast quantiles:\", forecast_entry.forecast_keys)\n",
    "median_fc = forecast_entry.quantile(0.5)\n",
    "print(\"→ Median forecast length:\", len(median_fc))"
   ]
  },
  {
   "cell_type": "code",
   "execution_count": 24,
   "metadata": {},
   "outputs": [],
   "source": [
    "# first entry of the time series list\n",
    "ts_entry = tss[0]"
   ]
  },
  {
   "cell_type": "code",
   "execution_count": 25,
   "metadata": {},
   "outputs": [
    {
     "data": {
      "text/plain": [
       "array([0.27276656, 0.0958369 , 0.0958369 , 0.27276656, 0.18430173],\n",
       "      dtype=float32)"
      ]
     },
     "execution_count": 25,
     "metadata": {},
     "output_type": "execute_result"
    }
   ],
   "source": [
    "# first 5 values of the time series (convert from pandas to numpy)\n",
    "np.array(ts_entry[:5]).reshape(\n",
    "    -1,\n",
    ")"
   ]
  },
  {
   "cell_type": "code",
   "execution_count": 26,
   "metadata": {},
   "outputs": [],
   "source": [
    "# first entry of dataset.test\n",
    "dataset_test_entry = next(iter(test_ds))"
   ]
  },
  {
   "cell_type": "code",
   "execution_count": 27,
   "metadata": {},
   "outputs": [
    {
     "data": {
      "text/plain": [
       "array([0.27276656, 0.0958369 , 0.0958369 , 0.27276656, 0.18430173],\n",
       "      dtype=float32)"
      ]
     },
     "execution_count": 27,
     "metadata": {},
     "output_type": "execute_result"
    }
   ],
   "source": [
    "# first 5 values\n",
    "dataset_test_entry[\"target\"][:5]"
   ]
  },
  {
   "cell_type": "code",
   "execution_count": 28,
   "metadata": {},
   "outputs": [
    {
     "name": "stdout",
     "output_type": "stream",
     "text": [
      "Start date of the forecast window: 2014-09-01 00:00\n",
      "Frequency of the time series: <Hour>\n"
     ]
    }
   ],
   "source": [
    "# first entry of the forecast list\n",
    "forecast_entry = forecasts[0]\n",
    "# print(f\"Number of sample paths: {forecast_entry.num_samples}\")\n",
    "# print(f\"Dimension of samples: {forecast_entry.samples.shape}\")\n",
    "print(f\"Start date of the forecast window: {forecast_entry.start_date}\")\n",
    "print(f\"Frequency of the time series: {forecast_entry.freq}\")"
   ]
  },
  {
   "cell_type": "code",
   "execution_count": 29,
   "metadata": {},
   "outputs": [
    {
     "name": "stdout",
     "output_type": "stream",
     "text": [
      "Mean of the future window:\n",
      " [ 0.159791    0.14389174  0.1657474   0.16370589  0.15277618  0.14282195\n",
      "  0.14578873  0.6362603  -0.04859349 -0.07627323 -0.16690204 -0.14102328\n",
      " -0.05568996 -0.13609266 -0.03625126  0.05716139  0.2732965   0.3463363\n",
      "  2.0917401   0.4398275   0.22555165  0.2757516   0.299719    0.3402144 ]\n",
      "0.5-quantile (median) of the future window:\n",
      " [ 0.159791    0.14389174  0.1657474   0.16370589  0.15277618  0.14282195\n",
      "  0.14578873  0.6362603  -0.04859349 -0.07627323 -0.16690204 -0.14102328\n",
      " -0.05568996 -0.13609266 -0.03625126  0.05716139  0.2732965   0.3463363\n",
      "  2.0917401   0.4398275   0.22555165  0.2757516   0.299719    0.3402144 ]\n"
     ]
    }
   ],
   "source": [
    "print(f\"Mean of the future window:\\n {forecast_entry.mean}\")\n",
    "print(f\"0.5-quantile (median) of the future window:\\n {forecast_entry.quantile(0.5)}\")"
   ]
  },
  {
   "cell_type": "code",
   "execution_count": 30,
   "metadata": {},
   "outputs": [
    {
     "data": {
      "text/plain": [
       "<matplotlib.legend.Legend at 0x1488e9d6df40>"
      ]
     },
     "execution_count": 30,
     "metadata": {},
     "output_type": "execute_result"
    },
    {
     "data": {
      "image/png": "[encoded data removed]",
      "text/plain": [
       "<Figure size 640x480 with 1 Axes>"
      ]
     },
     "metadata": {},
     "output_type": "display_data"
    }
   ],
   "source": [
    "import matplotlib.pyplot as plt\n",
    "\n",
    "plt.plot(ts_entry[-150:].to_timestamp())\n",
    "forecast_entry.plot(show_label=True)\n",
    "plt.legend()"
   ]
  },
  {
   "cell_type": "code",
   "execution_count": 31,
   "metadata": {},
   "outputs": [
    {
     "name": "stdout",
     "output_type": "stream",
     "text": [
      "{\n",
      "    \"MSE\": 0.18134333405455524,\n",
      "    \"abs_error\": 325764.8088789284,\n",
      "    \"abs_target_sum\": 1115203.6304939985,\n",
      "    \"abs_target_mean\": 0.8684574887814211,\n",
      "    \"seasonal_error\": 0.32064557889547723,\n",
      "    \"MASE\": 0.9304658545793703,\n",
      "    \"MAPE\": 1.4303294966078393,\n",
      "    \"sMAPE\": 0.44389953436930185,\n",
      "    \"MSIS\": 8.906665947575862,\n",
      "    \"num_masked_target_values\": 0.0,\n",
      "    \"QuantileLoss[0.5]\": 325764.80878407945,\n",
      "    \"Coverage[0.5]\": 0.504084509235897,\n",
      "    \"RMSE\": 0.42584426032829803,\n",
      "    \"NRMSE\": 0.490345544634341,\n",
      "    \"ND\": 0.2921123998983265,\n",
      "    \"wQuantileLoss[0.5]\": 0.2921123998132757,\n",
      "    \"mean_absolute_QuantileLoss\": 325764.80878407945,\n",
      "    \"mean_wQuantileLoss\": 0.2921123998132757,\n",
      "    \"MAE_Coverage\": 0.0040845092358969826,\n",
      "    \"OWA\": NaN\n",
      "}\n"
     ]
    }
   ],
   "source": [
    "import json\n",
    "print(json.dumps(agg_metrics, indent=4))"
   ]
  },
  {
   "cell_type": "code",
   "execution_count": 32,
   "metadata": {},
   "outputs": [
    {
     "data": {
      "text/html": [
       "<div>\n",
       "<style scoped>\n",
       "    .dataframe tbody tr th:only-of-type {\n",
       "        vertical-align: middle;\n",
       "    }\n",
       "\n",
       "    .dataframe tbody tr th {\n",
       "        vertical-align: top;\n",
       "    }\n",
       "\n",
       "    .dataframe thead th {\n",
       "        text-align: right;\n",
       "    }\n",
       "</style>\n",
       "<table border=\"1\" class=\"dataframe\">\n",
       "  <thead>\n",
       "    <tr style=\"text-align: right;\">\n",
       "      <th></th>\n",
       "      <th>item_id</th>\n",
       "      <th>forecast_start</th>\n",
       "      <th>MSE</th>\n",
       "      <th>abs_error</th>\n",
       "      <th>abs_target_sum</th>\n",
       "      <th>abs_target_mean</th>\n",
       "      <th>seasonal_error</th>\n",
       "      <th>MASE</th>\n",
       "      <th>MAPE</th>\n",
       "      <th>sMAPE</th>\n",
       "      <th>num_masked_target_values</th>\n",
       "      <th>ND</th>\n",
       "      <th>MSIS</th>\n",
       "      <th>QuantileLoss[0.5]</th>\n",
       "      <th>Coverage[0.5]</th>\n",
       "    </tr>\n",
       "  </thead>\n",
       "  <tbody>\n",
       "    <tr>\n",
       "      <th>0</th>\n",
       "      <td>None</td>\n",
       "      <td>2014-09-01 00:00</td>\n",
       "      <td>1.915931</td>\n",
       "      <td>19.895481</td>\n",
       "      <td>17.943615</td>\n",
       "      <td>0.747651</td>\n",
       "      <td>0.318228</td>\n",
       "      <td>2.604986</td>\n",
       "      <td>1.711327</td>\n",
       "      <td>1.185024</td>\n",
       "      <td>0.0</td>\n",
       "      <td>1.108778</td>\n",
       "      <td>55.338443</td>\n",
       "      <td>19.895483</td>\n",
       "      <td>0.750000</td>\n",
       "    </tr>\n",
       "    <tr>\n",
       "      <th>1</th>\n",
       "      <td>None</td>\n",
       "      <td>2014-09-01 01:00</td>\n",
       "      <td>2.518284</td>\n",
       "      <td>23.874458</td>\n",
       "      <td>21.290535</td>\n",
       "      <td>0.887106</td>\n",
       "      <td>0.318228</td>\n",
       "      <td>3.125967</td>\n",
       "      <td>1.757493</td>\n",
       "      <td>1.291915</td>\n",
       "      <td>0.0</td>\n",
       "      <td>1.121365</td>\n",
       "      <td>71.581169</td>\n",
       "      <td>23.874460</td>\n",
       "      <td>0.750000</td>\n",
       "    </tr>\n",
       "    <tr>\n",
       "      <th>2</th>\n",
       "      <td>None</td>\n",
       "      <td>2014-09-01 02:00</td>\n",
       "      <td>3.095345</td>\n",
       "      <td>27.628111</td>\n",
       "      <td>24.548990</td>\n",
       "      <td>1.022875</td>\n",
       "      <td>0.317613</td>\n",
       "      <td>3.624443</td>\n",
       "      <td>1.819556</td>\n",
       "      <td>1.388697</td>\n",
       "      <td>0.0</td>\n",
       "      <td>1.125428</td>\n",
       "      <td>88.872299</td>\n",
       "      <td>27.628112</td>\n",
       "      <td>0.791667</td>\n",
       "    </tr>\n",
       "    <tr>\n",
       "      <th>3</th>\n",
       "      <td>None</td>\n",
       "      <td>2014-09-01 03:00</td>\n",
       "      <td>3.627448</td>\n",
       "      <td>31.111221</td>\n",
       "      <td>27.807446</td>\n",
       "      <td>1.158644</td>\n",
       "      <td>0.317613</td>\n",
       "      <td>4.081381</td>\n",
       "      <td>1.820879</td>\n",
       "      <td>1.439959</td>\n",
       "      <td>0.0</td>\n",
       "      <td>1.118809</td>\n",
       "      <td>105.676083</td>\n",
       "      <td>31.111222</td>\n",
       "      <td>0.791667</td>\n",
       "    </tr>\n",
       "    <tr>\n",
       "      <th>4</th>\n",
       "      <td>None</td>\n",
       "      <td>2014-09-01 04:00</td>\n",
       "      <td>4.161791</td>\n",
       "      <td>34.674763</td>\n",
       "      <td>31.065899</td>\n",
       "      <td>1.294412</td>\n",
       "      <td>0.317613</td>\n",
       "      <td>4.548871</td>\n",
       "      <td>1.832136</td>\n",
       "      <td>1.522687</td>\n",
       "      <td>0.0</td>\n",
       "      <td>1.116168</td>\n",
       "      <td>123.224502</td>\n",
       "      <td>34.674763</td>\n",
       "      <td>0.833333</td>\n",
       "    </tr>\n",
       "  </tbody>\n",
       "</table>\n",
       "</div>"
      ],
      "text/plain": [
       "  item_id    forecast_start       MSE  abs_error  abs_target_sum  \\\n",
       "0    None  2014-09-01 00:00  1.915931  19.895481       17.943615   \n",
       "1    None  2014-09-01 01:00  2.518284  23.874458       21.290535   \n",
       "2    None  2014-09-01 02:00  3.095345  27.628111       24.548990   \n",
       "3    None  2014-09-01 03:00  3.627448  31.111221       27.807446   \n",
       "4    None  2014-09-01 04:00  4.161791  34.674763       31.065899   \n",
       "\n",
       "   abs_target_mean  seasonal_error      MASE      MAPE     sMAPE  \\\n",
       "0         0.747651        0.318228  2.604986  1.711327  1.185024   \n",
       "1         0.887106        0.318228  3.125967  1.757493  1.291915   \n",
       "2         1.022875        0.317613  3.624443  1.819556  1.388697   \n",
       "3         1.158644        0.317613  4.081381  1.820879  1.439959   \n",
       "4         1.294412        0.317613  4.548871  1.832136  1.522687   \n",
       "\n",
       "   num_masked_target_values        ND        MSIS  QuantileLoss[0.5]  \\\n",
       "0                       0.0  1.108778   55.338443          19.895483   \n",
       "1                       0.0  1.121365   71.581169          23.874460   \n",
       "2                       0.0  1.125428   88.872299          27.628112   \n",
       "3                       0.0  1.118809  105.676083          31.111222   \n",
       "4                       0.0  1.116168  123.224502          34.674763   \n",
       "\n",
       "   Coverage[0.5]  \n",
       "0       0.750000  \n",
       "1       0.750000  \n",
       "2       0.791667  \n",
       "3       0.791667  \n",
       "4       0.833333  "
      ]
     },
     "execution_count": 32,
     "metadata": {},
     "output_type": "execute_result"
    }
   ],
   "source": [
    "item_metrics.head()"
   ]
  },
  {
   "cell_type": "code",
   "execution_count": 33,
   "metadata": {},
   "outputs": [
    {
     "data": {
      "image/png": "[encoded data removed]",
      "text/plain": [
       "<Figure size 640x480 with 1 Axes>"
      ]
     },
     "metadata": {},
     "output_type": "display_data"
    }
   ],
   "source": [
    "item_metrics.plot(x=\"MSIS\", y=\"MASE\", kind=\"scatter\")\n",
    "plt.grid(which=\"both\")\n",
    "plt.show()"
   ]
  },
  {
   "cell_type": "code",
   "execution_count": 34,
   "metadata": {},
   "outputs": [],
   "source": [
    "from pathlib import Path\n",
    "# 1) pick a folder and make sure it exists\n",
    "save_dir = Path(\"saved_model_baseline\")\n",
    "save_dir.mkdir(parents=True, exist_ok=True)\n",
    "\n",
    "# 2) save the full GluonTS Predictor\n",
    "#    this will write a metadata.json and predictor.pkl inside saved_model/\n",
    "predictor.serialize(save_dir)\n",
    "\n",
    "# 3) (optional) save only the PyTorch TFT weights\n",
    "torch.save(\n",
    "    predictor.prediction_net.model.state_dict(),\n",
    "    save_dir / \"tft_baseline_weights.pt\"\n",
    ")\n"
   ]
  },
  {
   "cell_type": "code",
   "execution_count": null,
   "metadata": {},
   "outputs": [],
   "source": []
  }
 ],
 "metadata": {
  "accelerator": "GPU",
  "colab": {
   "gpuType": "T4",
   "provenance": []
  },
  "kaggle": {
   "accelerator": "nvidiaTeslaT4",
   "dataSources": [
    {
     "datasetId": 7346220,
     "sourceId": 11703799,
     "sourceType": "datasetVersion"
    }
   ],
   "dockerImageVersionId": 31011,
   "isGpuEnabled": true,
   "isInternetEnabled": true,
   "language": "python",
   "sourceType": "notebook"
  },
  "kernelspec": {
   "display_name": "Python 3 (ipykernel)",
   "language": "python",
   "name": "python3"
  },
  "language_info": {
   "codemirror_mode": {
    "name": "ipython",
    "version": 3
   },
   "file_extension": ".py",
   "mimetype": "text/x-python",
   "name": "python",
   "nbconvert_exporter": "python",
   "pygments_lexer": "ipython3",
   "version": "3.9.18"
  },
  "widgets": {
   "application/vnd.jupyter.widget-state+json": {
    "0552146e1e2143be9a6679bb1fddf806": {
     "model_module": "@jupyter-widgets/controls",
     "model_module_version": "1.5.0",
     "model_name": "FloatProgressModel",
     "state": {
      "_dom_classes": [],
      "_model_module": "@jupyter-widgets/controls",
      "_model_module_version": "1.5.0",
      "_model_name": "FloatProgressModel",
      "_view_count": null,
      "_view_module": "@jupyter-widgets/controls",
      "_view_module_version": "1.5.0",
      "_view_name": "ProgressView",
      "bar_style": "",
      "description": "",
      "description_tooltip": null,
      "layout": "IPY_MODEL_b8202d7c94854bd4a2f681935cc1b44d",
      "max": 1,
      "min": 0,
      "orientation": "horizontal",
      "style": "IPY_MODEL_d6ca43b42da34c318fe6f4d70b0fecb7",
      "value": 1
     }
    },
    "086e05f80448427db7b47a29f69bccc9": {
     "model_module": "@jupyter-widgets/base",
     "model_module_version": "1.2.0",
     "model_name": "LayoutModel",
     "state": {
      "_model_module": "@jupyter-widgets/base",
      "_model_module_version": "1.2.0",
      "_model_name": "LayoutModel",
      "_view_count": null,
      "_view_module": "@jupyter-widgets/base",
      "_view_module_version": "1.2.0",
      "_view_name": "LayoutView",
      "align_content": null,
      "align_items": null,
      "align_self": null,
      "border": null,
      "bottom": null,
      "display": null,
      "flex": null,
      "flex_flow": null,
      "grid_area": null,
      "grid_auto_columns": null,
      "grid_auto_flow": null,
      "grid_auto_rows": null,
      "grid_column": null,
      "grid_gap": null,
      "grid_row": null,
      "grid_template_areas": null,
      "grid_template_columns": null,
      "grid_template_rows": null,
      "height": null,
      "justify_content": null,
      "justify_items": null,
      "left": null,
      "margin": null,
      "max_height": null,
      "max_width": null,
      "min_height": null,
      "min_width": null,
      "object_fit": null,
      "object_position": null,
      "order": null,
      "overflow": null,
      "overflow_x": null,
      "overflow_y": null,
      "padding": null,
      "right": null,
      "top": null,
      "visibility": null,
      "width": null
     }
    },
    "0d305562ee354b2580cf368dd88e770d": {
     "model_module": "@jupyter-widgets/base",
     "model_module_version": "1.2.0",
     "model_name": "LayoutModel",
     "state": {
      "_model_module": "@jupyter-widgets/base",
      "_model_module_version": "1.2.0",
      "_model_name": "LayoutModel",
      "_view_count": null,
      "_view_module": "@jupyter-widgets/base",
      "_view_module_version": "1.2.0",
      "_view_name": "LayoutView",
      "align_content": null,
      "align_items": null,
      "align_self": null,
      "border": null,
      "bottom": null,
      "display": null,
      "flex": "2",
      "flex_flow": null,
      "grid_area": null,
      "grid_auto_columns": null,
      "grid_auto_flow": null,
      "grid_auto_rows": null,
      "grid_column": null,
      "grid_gap": null,
      "grid_row": null,
      "grid_template_areas": null,
      "grid_template_columns": null,
      "grid_template_rows": null,
      "height": null,
      "justify_content": null,
      "justify_items": null,
      "left": null,
      "margin": null,
      "max_height": null,
      "max_width": null,
      "min_height": null,
      "min_width": null,
      "object_fit": null,
      "object_position": null,
      "order": null,
      "overflow": null,
      "overflow_x": null,
      "overflow_y": null,
      "padding": null,
      "right": null,
      "top": null,
      "visibility": null,
      "width": null
     }
    },
    "1a94aa42f2ec45cba4517e28c82bde65": {
     "model_module": "@jupyter-widgets/base",
     "model_module_version": "1.2.0",
     "model_name": "LayoutModel",
     "state": {
      "_model_module": "@jupyter-widgets/base",
      "_model_module_version": "1.2.0",
      "_model_name": "LayoutModel",
      "_view_count": null,
      "_view_module": "@jupyter-widgets/base",
      "_view_module_version": "1.2.0",
      "_view_name": "LayoutView",
      "align_content": null,
      "align_items": null,
      "align_self": null,
      "border": null,
      "bottom": null,
      "display": null,
      "flex": null,
      "flex_flow": null,
      "grid_area": null,
      "grid_auto_columns": null,
      "grid_auto_flow": null,
      "grid_auto_rows": null,
      "grid_column": null,
      "grid_gap": null,
      "grid_row": null,
      "grid_template_areas": null,
      "grid_template_columns": null,
      "grid_template_rows": null,
      "height": null,
      "justify_content": null,
      "justify_items": null,
      "left": null,
      "margin": null,
      "max_height": null,
      "max_width": null,
      "min_height": null,
      "min_width": null,
      "object_fit": null,
      "object_position": null,
      "order": null,
      "overflow": null,
      "overflow_x": null,
      "overflow_y": null,
      "padding": null,
      "right": null,
      "top": null,
      "visibility": null,
      "width": null
     }
    },
    "474267174073429ba51590d9f1974c91": {
     "model_module": "@jupyter-widgets/base",
     "model_module_version": "1.2.0",
     "model_name": "LayoutModel",
     "state": {
      "_model_module": "@jupyter-widgets/base",
      "_model_module_version": "1.2.0",
      "_model_name": "LayoutModel",
      "_view_count": null,
      "_view_module": "@jupyter-widgets/base",
      "_view_module_version": "1.2.0",
      "_view_name": "LayoutView",
      "align_content": null,
      "align_items": null,
      "align_self": null,
      "border": null,
      "bottom": null,
      "display": "inline-flex",
      "flex": null,
      "flex_flow": "row wrap",
      "grid_area": null,
      "grid_auto_columns": null,
      "grid_auto_flow": null,
      "grid_auto_rows": null,
      "grid_column": null,
      "grid_gap": null,
      "grid_row": null,
      "grid_template_areas": null,
      "grid_template_columns": null,
      "grid_template_rows": null,
      "height": null,
      "justify_content": null,
      "justify_items": null,
      "left": null,
      "margin": null,
      "max_height": null,
      "max_width": null,
      "min_height": null,
      "min_width": null,
      "object_fit": null,
      "object_position": null,
      "order": null,
      "overflow": null,
      "overflow_x": null,
      "overflow_y": null,
      "padding": null,
      "right": null,
      "top": null,
      "visibility": null,
      "width": "100%"
     }
    },
    "48f5e4ad166c4c778a7373c8591ff865": {
     "model_module": "@jupyter-widgets/controls",
     "model_module_version": "1.5.0",
     "model_name": "HTMLModel",
     "state": {
      "_dom_classes": [],
      "_model_module": "@jupyter-widgets/controls",
      "_model_module_version": "1.5.0",
      "_model_name": "HTMLModel",
      "_view_count": null,
      "_view_module": "@jupyter-widgets/controls",
      "_view_module_version": "1.5.0",
      "_view_name": "HTMLView",
      "description": "",
      "description_tooltip": null,
      "layout": "IPY_MODEL_a0ab2373a2db4630a4edc00d85aa12ee",
      "placeholder": "​",
      "style": "IPY_MODEL_b9f2f319a0004d99a4eb387d1f77dd56",
      "value": " 2/2 [00:00&lt;00:00, 12.99it/s]"
     }
    },
    "4933e732da1e418eba11e5619eb7e3eb": {
     "model_module": "@jupyter-widgets/base",
     "model_module_version": "1.2.0",
     "model_name": "LayoutModel",
     "state": {
      "_model_module": "@jupyter-widgets/base",
      "_model_module_version": "1.2.0",
      "_model_name": "LayoutModel",
      "_view_count": null,
      "_view_module": "@jupyter-widgets/base",
      "_view_module_version": "1.2.0",
      "_view_name": "LayoutView",
      "align_content": null,
      "align_items": null,
      "align_self": null,
      "border": null,
      "bottom": null,
      "display": "inline-flex",
      "flex": null,
      "flex_flow": "row wrap",
      "grid_area": null,
      "grid_auto_columns": null,
      "grid_auto_flow": null,
      "grid_auto_rows": null,
      "grid_column": null,
      "grid_gap": null,
      "grid_row": null,
      "grid_template_areas": null,
      "grid_template_columns": null,
      "grid_template_rows": null,
      "height": null,
      "justify_content": null,
      "justify_items": null,
      "left": null,
      "margin": null,
      "max_height": null,
      "max_width": null,
      "min_height": null,
      "min_width": null,
      "object_fit": null,
      "object_position": null,
      "order": null,
      "overflow": null,
      "overflow_x": null,
      "overflow_y": null,
      "padding": null,
      "right": null,
      "top": null,
      "visibility": "hidden",
      "width": "100%"
     }
    },
    "58464e6c01b245f7abbff7e2bbc0c554": {
     "model_module": "@jupyter-widgets/controls",
     "model_module_version": "1.5.0",
     "model_name": "HTMLModel",
     "state": {
      "_dom_classes": [],
      "_model_module": "@jupyter-widgets/controls",
      "_model_module_version": "1.5.0",
      "_model_name": "HTMLModel",
      "_view_count": null,
      "_view_module": "@jupyter-widgets/controls",
      "_view_module_version": "1.5.0",
      "_view_name": "HTMLView",
      "description": "",
      "description_tooltip": null,
      "layout": "IPY_MODEL_bb832112cb4c470ca9d549af461fc421",
      "placeholder": "​",
      "style": "IPY_MODEL_af337a177cb34155b1a21b1047ccee8e",
      "value": "Sanity Checking DataLoader 0: 100%"
     }
    },
    "64dd9ff2ecbe4836b78658eb8a2dcea6": {
     "model_module": "@jupyter-widgets/controls",
     "model_module_version": "1.5.0",
     "model_name": "HTMLModel",
     "state": {
      "_dom_classes": [],
      "_model_module": "@jupyter-widgets/controls",
      "_model_module_version": "1.5.0",
      "_model_name": "HTMLModel",
      "_view_count": null,
      "_view_module": "@jupyter-widgets/controls",
      "_view_module_version": "1.5.0",
      "_view_name": "HTMLView",
      "description": "",
      "description_tooltip": null,
      "layout": "IPY_MODEL_086e05f80448427db7b47a29f69bccc9",
      "placeholder": "​",
      "style": "IPY_MODEL_da9a4f632f814177ab12597b60536c83",
      "value": "Epoch 0: "
     }
    },
    "6a6540cc7b684cb2a51e870f0517157c": {
     "model_module": "@jupyter-widgets/controls",
     "model_module_version": "1.5.0",
     "model_name": "DescriptionStyleModel",
     "state": {
      "_model_module": "@jupyter-widgets/controls",
      "_model_module_version": "1.5.0",
      "_model_name": "DescriptionStyleModel",
      "_view_count": null,
      "_view_module": "@jupyter-widgets/base",
      "_view_module_version": "1.2.0",
      "_view_name": "StyleView",
      "description_width": ""
     }
    },
    "71562f76030448e4b6fd3f1d8726677f": {
     "model_module": "@jupyter-widgets/controls",
     "model_module_version": "1.5.0",
     "model_name": "FloatProgressModel",
     "state": {
      "_dom_classes": [],
      "_model_module": "@jupyter-widgets/controls",
      "_model_module_version": "1.5.0",
      "_model_name": "FloatProgressModel",
      "_view_count": null,
      "_view_module": "@jupyter-widgets/controls",
      "_view_module_version": "1.5.0",
      "_view_name": "ProgressView",
      "bar_style": "",
      "description": "",
      "description_tooltip": null,
      "layout": "IPY_MODEL_c3dbc24c64b64e8aa1b36a0c79ef8797",
      "max": 2,
      "min": 0,
      "orientation": "horizontal",
      "style": "IPY_MODEL_7b92ede60f184532856eba206a8a8924",
      "value": 2
     }
    },
    "77b470430c804255b830bf0b8226fb9a": {
     "model_module": "@jupyter-widgets/controls",
     "model_module_version": "1.5.0",
     "model_name": "HTMLModel",
     "state": {
      "_dom_classes": [],
      "_model_module": "@jupyter-widgets/controls",
      "_model_module_version": "1.5.0",
      "_model_name": "HTMLModel",
      "_view_count": null,
      "_view_module": "@jupyter-widgets/controls",
      "_view_module_version": "1.5.0",
      "_view_name": "HTMLView",
      "description": "",
      "description_tooltip": null,
      "layout": "IPY_MODEL_e93b1345a2df484b8d851015c0eabeb2",
      "placeholder": "​",
      "style": "IPY_MODEL_9342cbb8eaf34a66a622512b2b14ec36",
      "value": " 780/? [00:34&lt;00:00, 22.43it/s]"
     }
    },
    "7b92ede60f184532856eba206a8a8924": {
     "model_module": "@jupyter-widgets/controls",
     "model_module_version": "1.5.0",
     "model_name": "ProgressStyleModel",
     "state": {
      "_model_module": "@jupyter-widgets/controls",
      "_model_module_version": "1.5.0",
      "_model_name": "ProgressStyleModel",
      "_view_count": null,
      "_view_module": "@jupyter-widgets/base",
      "_view_module_version": "1.2.0",
      "_view_name": "StyleView",
      "bar_color": null,
      "description_width": ""
     }
    },
    "7e4bc3df7d0b483898daf526b09cf6d9": {
     "model_module": "@jupyter-widgets/controls",
     "model_module_version": "1.5.0",
     "model_name": "FloatProgressModel",
     "state": {
      "_dom_classes": [],
      "_model_module": "@jupyter-widgets/controls",
      "_model_module_version": "1.5.0",
      "_model_name": "FloatProgressModel",
      "_view_count": null,
      "_view_module": "@jupyter-widgets/controls",
      "_view_module_version": "1.5.0",
      "_view_name": "ProgressView",
      "bar_style": "success",
      "description": "",
      "description_tooltip": null,
      "layout": "IPY_MODEL_0d305562ee354b2580cf368dd88e770d",
      "max": 1,
      "min": 0,
      "orientation": "horizontal",
      "style": "IPY_MODEL_aeba3f6f9c6d4af9a41d3370656b4761",
      "value": 1
     }
    },
    "9342cbb8eaf34a66a622512b2b14ec36": {
     "model_module": "@jupyter-widgets/controls",
     "model_module_version": "1.5.0",
     "model_name": "DescriptionStyleModel",
     "state": {
      "_model_module": "@jupyter-widgets/controls",
      "_model_module_version": "1.5.0",
      "_model_name": "DescriptionStyleModel",
      "_view_count": null,
      "_view_module": "@jupyter-widgets/base",
      "_view_module_version": "1.2.0",
      "_view_name": "StyleView",
      "description_width": ""
     }
    },
    "9dce0819b6c14aadb5ce9f53d5071930": {
     "model_module": "@jupyter-widgets/controls",
     "model_module_version": "1.5.0",
     "model_name": "HBoxModel",
     "state": {
      "_dom_classes": [],
      "_model_module": "@jupyter-widgets/controls",
      "_model_module_version": "1.5.0",
      "_model_name": "HBoxModel",
      "_view_count": null,
      "_view_module": "@jupyter-widgets/controls",
      "_view_module_version": "1.5.0",
      "_view_name": "HBoxView",
      "box_style": "",
      "children": [
       "IPY_MODEL_58464e6c01b245f7abbff7e2bbc0c554",
       "IPY_MODEL_71562f76030448e4b6fd3f1d8726677f",
       "IPY_MODEL_48f5e4ad166c4c778a7373c8591ff865"
      ],
      "layout": "IPY_MODEL_4933e732da1e418eba11e5619eb7e3eb"
     }
    },
    "a0ab2373a2db4630a4edc00d85aa12ee": {
     "model_module": "@jupyter-widgets/base",
     "model_module_version": "1.2.0",
     "model_name": "LayoutModel",
     "state": {
      "_model_module": "@jupyter-widgets/base",
      "_model_module_version": "1.2.0",
      "_model_name": "LayoutModel",
      "_view_count": null,
      "_view_module": "@jupyter-widgets/base",
      "_view_module_version": "1.2.0",
      "_view_name": "LayoutView",
      "align_content": null,
      "align_items": null,
      "align_self": null,
      "border": null,
      "bottom": null,
      "display": null,
      "flex": null,
      "flex_flow": null,
      "grid_area": null,
      "grid_auto_columns": null,
      "grid_auto_flow": null,
      "grid_auto_rows": null,
      "grid_column": null,
      "grid_gap": null,
      "grid_row": null,
      "grid_template_areas": null,
      "grid_template_columns": null,
      "grid_template_rows": null,
      "height": null,
      "justify_content": null,
      "justify_items": null,
      "left": null,
      "margin": null,
      "max_height": null,
      "max_width": null,
      "min_height": null,
      "min_width": null,
      "object_fit": null,
      "object_position": null,
      "order": null,
      "overflow": null,
      "overflow_x": null,
      "overflow_y": null,
      "padding": null,
      "right": null,
      "top": null,
      "visibility": null,
      "width": null
     }
    },
    "aeba3f6f9c6d4af9a41d3370656b4761": {
     "model_module": "@jupyter-widgets/controls",
     "model_module_version": "1.5.0",
     "model_name": "ProgressStyleModel",
     "state": {
      "_model_module": "@jupyter-widgets/controls",
      "_model_module_version": "1.5.0",
      "_model_name": "ProgressStyleModel",
      "_view_count": null,
      "_view_module": "@jupyter-widgets/base",
      "_view_module_version": "1.2.0",
      "_view_name": "StyleView",
      "bar_color": null,
      "description_width": ""
     }
    },
    "af337a177cb34155b1a21b1047ccee8e": {
     "model_module": "@jupyter-widgets/controls",
     "model_module_version": "1.5.0",
     "model_name": "DescriptionStyleModel",
     "state": {
      "_model_module": "@jupyter-widgets/controls",
      "_model_module_version": "1.5.0",
      "_model_name": "DescriptionStyleModel",
      "_view_count": null,
      "_view_module": "@jupyter-widgets/base",
      "_view_module_version": "1.2.0",
      "_view_name": "StyleView",
      "description_width": ""
     }
    },
    "b0fb38b258a641598210f731a829aa1d": {
     "model_module": "@jupyter-widgets/base",
     "model_module_version": "1.2.0",
     "model_name": "LayoutModel",
     "state": {
      "_model_module": "@jupyter-widgets/base",
      "_model_module_version": "1.2.0",
      "_model_name": "LayoutModel",
      "_view_count": null,
      "_view_module": "@jupyter-widgets/base",
      "_view_module_version": "1.2.0",
      "_view_name": "LayoutView",
      "align_content": null,
      "align_items": null,
      "align_self": null,
      "border": null,
      "bottom": null,
      "display": "inline-flex",
      "flex": null,
      "flex_flow": "row wrap",
      "grid_area": null,
      "grid_auto_columns": null,
      "grid_auto_flow": null,
      "grid_auto_rows": null,
      "grid_column": null,
      "grid_gap": null,
      "grid_row": null,
      "grid_template_areas": null,
      "grid_template_columns": null,
      "grid_template_rows": null,
      "height": null,
      "justify_content": null,
      "justify_items": null,
      "left": null,
      "margin": null,
      "max_height": null,
      "max_width": null,
      "min_height": null,
      "min_width": null,
      "object_fit": null,
      "object_position": null,
      "order": null,
      "overflow": null,
      "overflow_x": null,
      "overflow_y": null,
      "padding": null,
      "right": null,
      "top": null,
      "visibility": "hidden",
      "width": "100%"
     }
    },
    "b6fdb262a4374f29833c72ca9d81ab1e": {
     "model_module": "@jupyter-widgets/controls",
     "model_module_version": "1.5.0",
     "model_name": "HBoxModel",
     "state": {
      "_dom_classes": [],
      "_model_module": "@jupyter-widgets/controls",
      "_model_module_version": "1.5.0",
      "_model_name": "HBoxModel",
      "_view_count": null,
      "_view_module": "@jupyter-widgets/controls",
      "_view_module_version": "1.5.0",
      "_view_name": "HBoxView",
      "box_style": "",
      "children": [
       "IPY_MODEL_d3ae955091af4cb19666e808c19a2d7d",
       "IPY_MODEL_0552146e1e2143be9a6679bb1fddf806",
       "IPY_MODEL_77b470430c804255b830bf0b8226fb9a"
      ],
      "layout": "IPY_MODEL_b0fb38b258a641598210f731a829aa1d"
     }
    },
    "b8202d7c94854bd4a2f681935cc1b44d": {
     "model_module": "@jupyter-widgets/base",
     "model_module_version": "1.2.0",
     "model_name": "LayoutModel",
     "state": {
      "_model_module": "@jupyter-widgets/base",
      "_model_module_version": "1.2.0",
      "_model_name": "LayoutModel",
      "_view_count": null,
      "_view_module": "@jupyter-widgets/base",
      "_view_module_version": "1.2.0",
      "_view_name": "LayoutView",
      "align_content": null,
      "align_items": null,
      "align_self": null,
      "border": null,
      "bottom": null,
      "display": null,
      "flex": "2",
      "flex_flow": null,
      "grid_area": null,
      "grid_auto_columns": null,
      "grid_auto_flow": null,
      "grid_auto_rows": null,
      "grid_column": null,
      "grid_gap": null,
      "grid_row": null,
      "grid_template_areas": null,
      "grid_template_columns": null,
      "grid_template_rows": null,
      "height": null,
      "justify_content": null,
      "justify_items": null,
      "left": null,
      "margin": null,
      "max_height": null,
      "max_width": null,
      "min_height": null,
      "min_width": null,
      "object_fit": null,
      "object_position": null,
      "order": null,
      "overflow": null,
      "overflow_x": null,
      "overflow_y": null,
      "padding": null,
      "right": null,
      "top": null,
      "visibility": null,
      "width": null
     }
    },
    "b9f2f319a0004d99a4eb387d1f77dd56": {
     "model_module": "@jupyter-widgets/controls",
     "model_module_version": "1.5.0",
     "model_name": "DescriptionStyleModel",
     "state": {
      "_model_module": "@jupyter-widgets/controls",
      "_model_module_version": "1.5.0",
      "_model_name": "DescriptionStyleModel",
      "_view_count": null,
      "_view_module": "@jupyter-widgets/base",
      "_view_module_version": "1.2.0",
      "_view_name": "StyleView",
      "description_width": ""
     }
    },
    "bb832112cb4c470ca9d549af461fc421": {
     "model_module": "@jupyter-widgets/base",
     "model_module_version": "1.2.0",
     "model_name": "LayoutModel",
     "state": {
      "_model_module": "@jupyter-widgets/base",
      "_model_module_version": "1.2.0",
      "_model_name": "LayoutModel",
      "_view_count": null,
      "_view_module": "@jupyter-widgets/base",
      "_view_module_version": "1.2.0",
      "_view_name": "LayoutView",
      "align_content": null,
      "align_items": null,
      "align_self": null,
      "border": null,
      "bottom": null,
      "display": null,
      "flex": null,
      "flex_flow": null,
      "grid_area": null,
      "grid_auto_columns": null,
      "grid_auto_flow": null,
      "grid_auto_rows": null,
      "grid_column": null,
      "grid_gap": null,
      "grid_row": null,
      "grid_template_areas": null,
      "grid_template_columns": null,
      "grid_template_rows": null,
      "height": null,
      "justify_content": null,
      "justify_items": null,
      "left": null,
      "margin": null,
      "max_height": null,
      "max_width": null,
      "min_height": null,
      "min_width": null,
      "object_fit": null,
      "object_position": null,
      "order": null,
      "overflow": null,
      "overflow_x": null,
      "overflow_y": null,
      "padding": null,
      "right": null,
      "top": null,
      "visibility": null,
      "width": null
     }
    },
    "c3dbc24c64b64e8aa1b36a0c79ef8797": {
     "model_module": "@jupyter-widgets/base",
     "model_module_version": "1.2.0",
     "model_name": "LayoutModel",
     "state": {
      "_model_module": "@jupyter-widgets/base",
      "_model_module_version": "1.2.0",
      "_model_name": "LayoutModel",
      "_view_count": null,
      "_view_module": "@jupyter-widgets/base",
      "_view_module_version": "1.2.0",
      "_view_name": "LayoutView",
      "align_content": null,
      "align_items": null,
      "align_self": null,
      "border": null,
      "bottom": null,
      "display": null,
      "flex": "2",
      "flex_flow": null,
      "grid_area": null,
      "grid_auto_columns": null,
      "grid_auto_flow": null,
      "grid_auto_rows": null,
      "grid_column": null,
      "grid_gap": null,
      "grid_row": null,
      "grid_template_areas": null,
      "grid_template_columns": null,
      "grid_template_rows": null,
      "height": null,
      "justify_content": null,
      "justify_items": null,
      "left": null,
      "margin": null,
      "max_height": null,
      "max_width": null,
      "min_height": null,
      "min_width": null,
      "object_fit": null,
      "object_position": null,
      "order": null,
      "overflow": null,
      "overflow_x": null,
      "overflow_y": null,
      "padding": null,
      "right": null,
      "top": null,
      "visibility": null,
      "width": null
     }
    },
    "c65f5305fe484514b87cf351475998ea": {
     "model_module": "@jupyter-widgets/controls",
     "model_module_version": "1.5.0",
     "model_name": "HTMLModel",
     "state": {
      "_dom_classes": [],
      "_model_module": "@jupyter-widgets/controls",
      "_model_module_version": "1.5.0",
      "_model_name": "HTMLModel",
      "_view_count": null,
      "_view_module": "@jupyter-widgets/controls",
      "_view_module_version": "1.5.0",
      "_view_name": "HTMLView",
      "description": "",
      "description_tooltip": null,
      "layout": "IPY_MODEL_f0a5479fd8d84609bc70365a297e5fd6",
      "placeholder": "​",
      "style": "IPY_MODEL_6a6540cc7b684cb2a51e870f0517157c",
      "value": " 7800/? [10:46&lt;00:00, 12.06it/s, v_num=0, val_loss=0.141, train_loss=0.197]"
     }
    },
    "d2ae68bdefe74f9fa35723d0b5fc0e47": {
     "model_module": "@jupyter-widgets/controls",
     "model_module_version": "1.5.0",
     "model_name": "DescriptionStyleModel",
     "state": {
      "_model_module": "@jupyter-widgets/controls",
      "_model_module_version": "1.5.0",
      "_model_name": "DescriptionStyleModel",
      "_view_count": null,
      "_view_module": "@jupyter-widgets/base",
      "_view_module_version": "1.2.0",
      "_view_name": "StyleView",
      "description_width": ""
     }
    },
    "d3ae955091af4cb19666e808c19a2d7d": {
     "model_module": "@jupyter-widgets/controls",
     "model_module_version": "1.5.0",
     "model_name": "HTMLModel",
     "state": {
      "_dom_classes": [],
      "_model_module": "@jupyter-widgets/controls",
      "_model_module_version": "1.5.0",
      "_model_name": "HTMLModel",
      "_view_count": null,
      "_view_module": "@jupyter-widgets/controls",
      "_view_module_version": "1.5.0",
      "_view_name": "HTMLView",
      "description": "",
      "description_tooltip": null,
      "layout": "IPY_MODEL_1a94aa42f2ec45cba4517e28c82bde65",
      "placeholder": "​",
      "style": "IPY_MODEL_d2ae68bdefe74f9fa35723d0b5fc0e47",
      "value": "Validation DataLoader 0: "
     }
    },
    "d6ca43b42da34c318fe6f4d70b0fecb7": {
     "model_module": "@jupyter-widgets/controls",
     "model_module_version": "1.5.0",
     "model_name": "ProgressStyleModel",
     "state": {
      "_model_module": "@jupyter-widgets/controls",
      "_model_module_version": "1.5.0",
      "_model_name": "ProgressStyleModel",
      "_view_count": null,
      "_view_module": "@jupyter-widgets/base",
      "_view_module_version": "1.2.0",
      "_view_name": "StyleView",
      "bar_color": null,
      "description_width": ""
     }
    },
    "da9a4f632f814177ab12597b60536c83": {
     "model_module": "@jupyter-widgets/controls",
     "model_module_version": "1.5.0",
     "model_name": "DescriptionStyleModel",
     "state": {
      "_model_module": "@jupyter-widgets/controls",
      "_model_module_version": "1.5.0",
      "_model_name": "DescriptionStyleModel",
      "_view_count": null,
      "_view_module": "@jupyter-widgets/base",
      "_view_module_version": "1.2.0",
      "_view_name": "StyleView",
      "description_width": ""
     }
    },
    "ddddb34722804fed9f8fd92d7babdab7": {
     "model_module": "@jupyter-widgets/controls",
     "model_module_version": "1.5.0",
     "model_name": "HBoxModel",
     "state": {
      "_dom_classes": [],
      "_model_module": "@jupyter-widgets/controls",
      "_model_module_version": "1.5.0",
      "_model_name": "HBoxModel",
      "_view_count": null,
      "_view_module": "@jupyter-widgets/controls",
      "_view_module_version": "1.5.0",
      "_view_name": "HBoxView",
      "box_style": "",
      "children": [
       "IPY_MODEL_64dd9ff2ecbe4836b78658eb8a2dcea6",
       "IPY_MODEL_7e4bc3df7d0b483898daf526b09cf6d9",
       "IPY_MODEL_c65f5305fe484514b87cf351475998ea"
      ],
      "layout": "IPY_MODEL_474267174073429ba51590d9f1974c91"
     }
    },
    "e93b1345a2df484b8d851015c0eabeb2": {
     "model_module": "@jupyter-widgets/base",
     "model_module_version": "1.2.0",
     "model_name": "LayoutModel",
     "state": {
      "_model_module": "@jupyter-widgets/base",
      "_model_module_version": "1.2.0",
      "_model_name": "LayoutModel",
      "_view_count": null,
      "_view_module": "@jupyter-widgets/base",
      "_view_module_version": "1.2.0",
      "_view_name": "LayoutView",
      "align_content": null,
      "align_items": null,
      "align_self": null,
      "border": null,
      "bottom": null,
      "display": null,
      "flex": null,
      "flex_flow": null,
      "grid_area": null,
      "grid_auto_columns": null,
      "grid_auto_flow": null,
      "grid_auto_rows": null,
      "grid_column": null,
      "grid_gap": null,
      "grid_row": null,
      "grid_template_areas": null,
      "grid_template_columns": null,
      "grid_template_rows": null,
      "height": null,
      "justify_content": null,
      "justify_items": null,
      "left": null,
      "margin": null,
      "max_height": null,
      "max_width": null,
      "min_height": null,
      "min_width": null,
      "object_fit": null,
      "object_position": null,
      "order": null,
      "overflow": null,
      "overflow_x": null,
      "overflow_y": null,
      "padding": null,
      "right": null,
      "top": null,
      "visibility": null,
      "width": null
     }
    },
    "f0a5479fd8d84609bc70365a297e5fd6": {
     "model_module": "@jupyter-widgets/base",
     "model_module_version": "1.2.0",
     "model_name": "LayoutModel",
     "state": {
      "_model_module": "@jupyter-widgets/base",
      "_model_module_version": "1.2.0",
      "_model_name": "LayoutModel",
      "_view_count": null,
      "_view_module": "@jupyter-widgets/base",
      "_view_module_version": "1.2.0",
      "_view_name": "LayoutView",
      "align_content": null,
      "align_items": null,
      "align_self": null,
      "border": null,
      "bottom": null,
      "display": null,
      "flex": null,
      "flex_flow": null,
      "grid_area": null,
      "grid_auto_columns": null,
      "grid_auto_flow": null,
      "grid_auto_rows": null,
      "grid_column": null,
      "grid_gap": null,
      "grid_row": null,
      "grid_template_areas": null,
      "grid_template_columns": null,
      "grid_template_rows": null,
      "height": null,
      "justify_content": null,
      "justify_items": null,
      "left": null,
      "margin": null,
      "max_height": null,
      "max_width": null,
      "min_height": null,
      "min_width": null,
      "object_fit": null,
      "object_position": null,
      "order": null,
      "overflow": null,
      "overflow_x": null,
      "overflow_y": null,
      "padding": null,
      "right": null,
      "top": null,
      "visibility": null,
      "width": null
     }
    }
   }
  }
 },
 "nbformat": 4,
 "nbformat_minor": 4
}
